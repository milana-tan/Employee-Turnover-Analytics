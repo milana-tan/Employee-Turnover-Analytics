{
  "cells": [
    {
      "cell_type": "markdown",
      "id": "022fe3cf",
      "metadata": {
        "id": "022fe3cf"
      },
      "source": [
        "# Block 33: Career Simulation\n",
        "## Employee Turnover Analytics\n"
      ]
    },
    {
      "cell_type": "markdown",
      "id": "75aa1b22",
      "metadata": {
        "id": "75aa1b22"
      },
      "source": [
        "    \n",
        "### Project Statement:\n",
        "\n",
        "Portobello Tech is an app innovator that has devised an intelligent way of predicting employee turnover within the company. It periodically evaluates employees' work details, including the number of projects they worked on, average monthly working hours, time spent in the company, promotions in the last 5 years, and salary level.\n",
        "\n",
        "Data from prior evaluations show the employees’ satisfaction in the workplace. The data could be used to identify patterns in workstyle and their interest in continuing to work for the company.  \n",
        "\n",
        "The HR department owns the data and uses it to predict employee turnover. Employee turnover refers to the total number of workers who leave a company over a certain period of time.\n",
        "\n",
        "As the ML developer assigned to the HR department, you have been asked to create ML programs to\n",
        "\n",
        "* Perform a data quality check by checking for missing values.\n",
        "\n",
        "* Understand what factors contributed most to employee turnover by EDA.\n",
        "\n",
        "* Perform a clustering of employees who left based on their satisfaction and evaluation.\n",
        "\n",
        "* Handle the left-class imbalance using the SMOTE technique.\n",
        "\n",
        "* Perform k-fold cross-validation model training and evaluate performance.  \n",
        "\n",
        "* Identify the best model and justify the evaluation metrics used.  \n",
        "\n",
        "* Suggest various retention strategies for targeted employees.\n"
      ]
    },
    {
      "cell_type": "markdown",
      "id": "01473c3e",
      "metadata": {
        "id": "01473c3e"
      },
      "source": [
        "### Data will be modified from:  \n",
        "\n",
        "https://www.kaggle.com/liujiaqi/hr-comma-sepcsv\n",
        "![Block_33_PS_datatable.png](attachment:Block_33_PS_datatable.png)"
      ]
    },
    {
      "cell_type": "markdown",
      "id": "568313b1",
      "metadata": {
        "id": "568313b1"
      },
      "source": [
        "### Perform the following steps:\n",
        "\n",
        "* Perform a data quality check by checking for missing values if any.\n",
        "\n",
        "* Understand what factors contributed most to employee turnover by EDA.\n",
        "\n",
        "  * Draw a heatmap of the correlation matrix between all numerical features/columns in the data.\n",
        "\n",
        "  * Draw the distribution plot of  \n",
        "\n",
        "    * Employee satisfaction (use column satisfaction_level)\n",
        "\n",
        "    * Employee evaluation (use column last_evaluation)\n",
        "\n",
        "    * Employee average monthly hours (use column average_montly_hours)\n",
        "\n",
        "  * Draw the bar plot of the employee project count of both employees who left and who stayed in the organization (use column number_project and hue column turnover) and give your inferences from the plot.\n",
        "\n",
        "* Perform a clustering of employees who left based on their satisfaction and evaluation.\n",
        "\n",
        "  * Choose columns satisfaction_level, last_evaluation, and turnover.\n",
        "\n",
        "  * K-means clustering of employees who left the company into 3 clusters.\n",
        "\n",
        "  * Based on the satisfaction and evaluation factors, give your thoughts on the employee clusters.\n",
        "\n",
        "* Handle the left-class imbalance using the SMOTE technique.\n",
        "\n",
        "  * Pre-process the data by converting categorical columns to numerical columns by:\n",
        "\n",
        "    * Separating categorical variables and numeric variables\n",
        "\n",
        "    * Applying get_dummies() to the categorical variables\n",
        "\n",
        "    * Combining categorical variables and numeric variables\n",
        "\n",
        "\n",
        "\n",
        "  * Do the stratified split of the dataset to train and test in the ratio 80:20 with random_state=123.\n",
        "\n",
        "  * Upsample the training dataset using the SMOTE technique from the `imblearn` module.\n",
        "\n",
        "* Perform 5-fold cross-validation model training and evaluate performance.  \n",
        "\n",
        "  * Train a logistic regression model, apply a 5-fold CV, and plot the classification report.\n",
        "\n",
        "  * Train a random forest classifier model, apply the 5-fold CV, and plot the classification report.\n",
        "\n",
        "  * Train a gradient boosting classifier model, apply the 5-fold CV, and plot the classification report.\n",
        "\n",
        "* Identify the best model and justify the evaluation metrics used.  \n",
        "\n",
        "  * Find the ROC/AUC for each model and plot the ROC curve.\n",
        "\n",
        "  * Find the confusion matrix for each of the models.\n",
        "\n",
        "  * Explain which metric needs to be used: Recall or Precision?\n",
        "\n",
        "* Suggest various retention strategies for targeted employees.\n",
        "\n",
        "  * Using the best model, predict the probability of employee turnover in the test data.\n",
        "\n",
        "  * Based on the probability score range below, categorize the employees into four zones and suggest your thoughts on the retention strategies for each zone.\n",
        "\n",
        "* Safe Zone (Green) (Score <= 20%)\n",
        "\n",
        "* Low Risk Zone (Yellow) (20% < Score <= 60%)\n",
        "\n",
        "* Medium Risk Zone (Orange) (60% < Score < 90%)\n",
        "\n",
        "* High Risk Zone (Red) (Score => 90%)."
      ]
    },
    {
      "cell_type": "markdown",
      "id": "65329168",
      "metadata": {
        "id": "65329168"
      },
      "source": [
        "### We'll be covering:\n",
        "* Descriptive Analytics: What happened?\n",
        "* Predictive Analytics: What Might Happen?\n",
        "* Prescriptive Analytics: What Should We Do?\n",
        "\n",
        "\n",
        "***\n",
        "### Objective:\n",
        "To understand what factors contributed most to employee turnover.\n",
        "\n",
        "To perform clustering of employees who left based on their satisfaction and evaluation\n",
        "\n",
        "To create a model that predicts the likelihood that a certain employee will leave the company or not.\n",
        "\n",
        "To create or improve different retention strategies for targeted employees."
      ]
    },
    {
      "cell_type": "markdown",
      "id": "207b5a08",
      "metadata": {
        "id": "207b5a08"
      },
      "source": [
        "<a id='dataset'></a>\n",
        "#### Reading the Data\n",
        "***"
      ]
    },
    {
      "cell_type": "code",
      "execution_count": null,
      "id": "b792bdae",
      "metadata": {
        "id": "b792bdae"
      },
      "outputs": [],
      "source": [
        "# Import the neccessary modules for data manipulation and visual representation\n",
        "import pandas as pd\n",
        "import numpy as np\n",
        "import matplotlib.pyplot as plt\n",
        "import matplotlib as matplot\n",
        "import seaborn as sns\n",
        "import warnings\n",
        "warnings.filterwarnings(\"ignore\")\n",
        "%matplotlib inline"
      ]
    },
    {
      "cell_type": "code",
      "execution_count": null,
      "id": "cfd3d2d1",
      "metadata": {
        "id": "cfd3d2d1"
      },
      "outputs": [],
      "source": [
        "# Load the dataset\n",
        "# TODO: Complete this section\n",
        "df = pd.read_csv(\"HR_comma_sep.csv\")"
      ]
    },
    {
      "cell_type": "code",
      "execution_count": null,
      "id": "68c00fb3",
      "metadata": {
        "id": "68c00fb3",
        "outputId": "baeaa162-e673-4973-8efa-7ab8e2f1c782"
      },
      "outputs": [
        {
          "name": "stdout",
          "output_type": "stream",
          "text": [
            "<class 'pandas.core.frame.DataFrame'>\n",
            "RangeIndex: 14999 entries, 0 to 14998\n",
            "Data columns (total 10 columns):\n",
            " #   Column                 Non-Null Count  Dtype  \n",
            "---  ------                 --------------  -----  \n",
            " 0   satisfaction_level     14999 non-null  float64\n",
            " 1   last_evaluation        14999 non-null  float64\n",
            " 2   number_project         14999 non-null  int64  \n",
            " 3   average_montly_hours   14999 non-null  int64  \n",
            " 4   time_spend_company     14999 non-null  int64  \n",
            " 5   Work_accident          14999 non-null  int64  \n",
            " 6   left                   14999 non-null  int64  \n",
            " 7   promotion_last_5years  14999 non-null  int64  \n",
            " 8   sales                  14999 non-null  object \n",
            " 9   salary                 14999 non-null  object \n",
            "dtypes: float64(2), int64(6), object(2)\n",
            "memory usage: 1.1+ MB\n"
          ]
        },
        {
          "data": {
            "text/html": [
              "<div>\n",
              "<style scoped>\n",
              "    .dataframe tbody tr th:only-of-type {\n",
              "        vertical-align: middle;\n",
              "    }\n",
              "\n",
              "    .dataframe tbody tr th {\n",
              "        vertical-align: top;\n",
              "    }\n",
              "\n",
              "    .dataframe thead th {\n",
              "        text-align: right;\n",
              "    }\n",
              "</style>\n",
              "<table border=\"1\" class=\"dataframe\">\n",
              "  <thead>\n",
              "    <tr style=\"text-align: right;\">\n",
              "      <th></th>\n",
              "      <th>satisfaction_level</th>\n",
              "      <th>last_evaluation</th>\n",
              "      <th>number_project</th>\n",
              "      <th>average_montly_hours</th>\n",
              "      <th>time_spend_company</th>\n",
              "      <th>Work_accident</th>\n",
              "      <th>left</th>\n",
              "      <th>promotion_last_5years</th>\n",
              "    </tr>\n",
              "  </thead>\n",
              "  <tbody>\n",
              "    <tr>\n",
              "      <th>count</th>\n",
              "      <td>14999.000000</td>\n",
              "      <td>14999.000000</td>\n",
              "      <td>14999.000000</td>\n",
              "      <td>14999.000000</td>\n",
              "      <td>14999.000000</td>\n",
              "      <td>14999.000000</td>\n",
              "      <td>14999.000000</td>\n",
              "      <td>14999.000000</td>\n",
              "    </tr>\n",
              "    <tr>\n",
              "      <th>mean</th>\n",
              "      <td>0.612834</td>\n",
              "      <td>0.716102</td>\n",
              "      <td>3.803054</td>\n",
              "      <td>201.050337</td>\n",
              "      <td>3.498233</td>\n",
              "      <td>0.144610</td>\n",
              "      <td>0.238083</td>\n",
              "      <td>0.021268</td>\n",
              "    </tr>\n",
              "    <tr>\n",
              "      <th>std</th>\n",
              "      <td>0.248631</td>\n",
              "      <td>0.171169</td>\n",
              "      <td>1.232592</td>\n",
              "      <td>49.943099</td>\n",
              "      <td>1.460136</td>\n",
              "      <td>0.351719</td>\n",
              "      <td>0.425924</td>\n",
              "      <td>0.144281</td>\n",
              "    </tr>\n",
              "    <tr>\n",
              "      <th>min</th>\n",
              "      <td>0.090000</td>\n",
              "      <td>0.360000</td>\n",
              "      <td>2.000000</td>\n",
              "      <td>96.000000</td>\n",
              "      <td>2.000000</td>\n",
              "      <td>0.000000</td>\n",
              "      <td>0.000000</td>\n",
              "      <td>0.000000</td>\n",
              "    </tr>\n",
              "    <tr>\n",
              "      <th>25%</th>\n",
              "      <td>0.440000</td>\n",
              "      <td>0.560000</td>\n",
              "      <td>3.000000</td>\n",
              "      <td>156.000000</td>\n",
              "      <td>3.000000</td>\n",
              "      <td>0.000000</td>\n",
              "      <td>0.000000</td>\n",
              "      <td>0.000000</td>\n",
              "    </tr>\n",
              "    <tr>\n",
              "      <th>50%</th>\n",
              "      <td>0.640000</td>\n",
              "      <td>0.720000</td>\n",
              "      <td>4.000000</td>\n",
              "      <td>200.000000</td>\n",
              "      <td>3.000000</td>\n",
              "      <td>0.000000</td>\n",
              "      <td>0.000000</td>\n",
              "      <td>0.000000</td>\n",
              "    </tr>\n",
              "    <tr>\n",
              "      <th>75%</th>\n",
              "      <td>0.820000</td>\n",
              "      <td>0.870000</td>\n",
              "      <td>5.000000</td>\n",
              "      <td>245.000000</td>\n",
              "      <td>4.000000</td>\n",
              "      <td>0.000000</td>\n",
              "      <td>0.000000</td>\n",
              "      <td>0.000000</td>\n",
              "    </tr>\n",
              "    <tr>\n",
              "      <th>max</th>\n",
              "      <td>1.000000</td>\n",
              "      <td>1.000000</td>\n",
              "      <td>7.000000</td>\n",
              "      <td>310.000000</td>\n",
              "      <td>10.000000</td>\n",
              "      <td>1.000000</td>\n",
              "      <td>1.000000</td>\n",
              "      <td>1.000000</td>\n",
              "    </tr>\n",
              "  </tbody>\n",
              "</table>\n",
              "</div>"
            ],
            "text/plain": [
              "       satisfaction_level  last_evaluation  number_project  \\\n",
              "count        14999.000000     14999.000000    14999.000000   \n",
              "mean             0.612834         0.716102        3.803054   \n",
              "std              0.248631         0.171169        1.232592   \n",
              "min              0.090000         0.360000        2.000000   \n",
              "25%              0.440000         0.560000        3.000000   \n",
              "50%              0.640000         0.720000        4.000000   \n",
              "75%              0.820000         0.870000        5.000000   \n",
              "max              1.000000         1.000000        7.000000   \n",
              "\n",
              "       average_montly_hours  time_spend_company  Work_accident          left  \\\n",
              "count          14999.000000        14999.000000   14999.000000  14999.000000   \n",
              "mean             201.050337            3.498233       0.144610      0.238083   \n",
              "std               49.943099            1.460136       0.351719      0.425924   \n",
              "min               96.000000            2.000000       0.000000      0.000000   \n",
              "25%              156.000000            3.000000       0.000000      0.000000   \n",
              "50%              200.000000            3.000000       0.000000      0.000000   \n",
              "75%              245.000000            4.000000       0.000000      0.000000   \n",
              "max              310.000000           10.000000       1.000000      1.000000   \n",
              "\n",
              "       promotion_last_5years  \n",
              "count           14999.000000  \n",
              "mean                0.021268  \n",
              "std                 0.144281  \n",
              "min                 0.000000  \n",
              "25%                 0.000000  \n",
              "50%                 0.000000  \n",
              "75%                 0.000000  \n",
              "max                 1.000000  "
            ]
          },
          "execution_count": 54,
          "metadata": {},
          "output_type": "execute_result"
        }
      ],
      "source": [
        "# Examine the dataset\n",
        "# TODO: Complete this section\n",
        "df.shape\n",
        "df.info()\n",
        "df.isnull().sum()\n",
        "df.describe()"
      ]
    },
    {
      "cell_type": "code",
      "execution_count": null,
      "id": "293a63b4",
      "metadata": {
        "id": "293a63b4"
      },
      "outputs": [],
      "source": [
        "# Rename Columns\n",
        "df = df.rename(columns={'satisfaction_level': 'satisfaction',\n",
        "                        'last_evaluation': 'evaluation',\n",
        "                        'number_project': 'projectCount',\n",
        "                        'average_montly_hours': 'averageMonthlyHours',\n",
        "                        'time_spend_company': 'yearsAtCompany',\n",
        "                        'Work_accident': 'workAccident',\n",
        "                        'promotion_last_5years': 'promotion',\n",
        "                        'sales' : 'department',\n",
        "                        'left' : 'turnover'\n",
        "                        })"
      ]
    },
    {
      "cell_type": "code",
      "execution_count": null,
      "id": "9ff25be4",
      "metadata": {
        "id": "9ff25be4",
        "outputId": "e28f6454-313b-41d2-9df4-9861e44167a4"
      },
      "outputs": [
        {
          "data": {
            "text/html": [
              "<div>\n",
              "<style scoped>\n",
              "    .dataframe tbody tr th:only-of-type {\n",
              "        vertical-align: middle;\n",
              "    }\n",
              "\n",
              "    .dataframe tbody tr th {\n",
              "        vertical-align: top;\n",
              "    }\n",
              "\n",
              "    .dataframe thead th {\n",
              "        text-align: right;\n",
              "    }\n",
              "</style>\n",
              "<table border=\"1\" class=\"dataframe\">\n",
              "  <thead>\n",
              "    <tr style=\"text-align: right;\">\n",
              "      <th></th>\n",
              "      <th>satisfaction</th>\n",
              "      <th>evaluation</th>\n",
              "      <th>projectCount</th>\n",
              "      <th>averageMonthlyHours</th>\n",
              "      <th>yearsAtCompany</th>\n",
              "      <th>workAccident</th>\n",
              "      <th>turnover</th>\n",
              "      <th>promotion</th>\n",
              "      <th>department</th>\n",
              "      <th>salary</th>\n",
              "    </tr>\n",
              "  </thead>\n",
              "  <tbody>\n",
              "    <tr>\n",
              "      <th>0</th>\n",
              "      <td>0.38</td>\n",
              "      <td>0.53</td>\n",
              "      <td>2</td>\n",
              "      <td>157</td>\n",
              "      <td>3</td>\n",
              "      <td>0</td>\n",
              "      <td>1</td>\n",
              "      <td>0</td>\n",
              "      <td>sales</td>\n",
              "      <td>low</td>\n",
              "    </tr>\n",
              "    <tr>\n",
              "      <th>1</th>\n",
              "      <td>0.80</td>\n",
              "      <td>0.86</td>\n",
              "      <td>5</td>\n",
              "      <td>262</td>\n",
              "      <td>6</td>\n",
              "      <td>0</td>\n",
              "      <td>1</td>\n",
              "      <td>0</td>\n",
              "      <td>sales</td>\n",
              "      <td>medium</td>\n",
              "    </tr>\n",
              "    <tr>\n",
              "      <th>2</th>\n",
              "      <td>0.11</td>\n",
              "      <td>0.88</td>\n",
              "      <td>7</td>\n",
              "      <td>272</td>\n",
              "      <td>4</td>\n",
              "      <td>0</td>\n",
              "      <td>1</td>\n",
              "      <td>0</td>\n",
              "      <td>sales</td>\n",
              "      <td>medium</td>\n",
              "    </tr>\n",
              "    <tr>\n",
              "      <th>3</th>\n",
              "      <td>0.72</td>\n",
              "      <td>0.87</td>\n",
              "      <td>5</td>\n",
              "      <td>223</td>\n",
              "      <td>5</td>\n",
              "      <td>0</td>\n",
              "      <td>1</td>\n",
              "      <td>0</td>\n",
              "      <td>sales</td>\n",
              "      <td>low</td>\n",
              "    </tr>\n",
              "    <tr>\n",
              "      <th>4</th>\n",
              "      <td>0.37</td>\n",
              "      <td>0.52</td>\n",
              "      <td>2</td>\n",
              "      <td>159</td>\n",
              "      <td>3</td>\n",
              "      <td>0</td>\n",
              "      <td>1</td>\n",
              "      <td>0</td>\n",
              "      <td>sales</td>\n",
              "      <td>low</td>\n",
              "    </tr>\n",
              "  </tbody>\n",
              "</table>\n",
              "</div>"
            ],
            "text/plain": [
              "   satisfaction  evaluation  projectCount  averageMonthlyHours  \\\n",
              "0          0.38        0.53             2                  157   \n",
              "1          0.80        0.86             5                  262   \n",
              "2          0.11        0.88             7                  272   \n",
              "3          0.72        0.87             5                  223   \n",
              "4          0.37        0.52             2                  159   \n",
              "\n",
              "   yearsAtCompany  workAccident  turnover  promotion department  salary  \n",
              "0               3             0         1          0      sales     low  \n",
              "1               6             0         1          0      sales  medium  \n",
              "2               4             0         1          0      sales  medium  \n",
              "3               5             0         1          0      sales     low  \n",
              "4               3             0         1          0      sales     low  "
            ]
          },
          "execution_count": 56,
          "metadata": {},
          "output_type": "execute_result"
        }
      ],
      "source": [
        "# Print the first few rows\n",
        "df.head()"
      ]
    },
    {
      "cell_type": "code",
      "execution_count": null,
      "id": "cb655a68",
      "metadata": {
        "id": "cb655a68",
        "outputId": "bf0c55b9-f132-4758-9b8b-a4bf9481a88b"
      },
      "outputs": [
        {
          "name": "stdout",
          "output_type": "stream",
          "text": [
            "Class Counts:\n",
            " 0    11428\n",
            "1     3571\n",
            "Name: turnover, dtype: int64\n"
          ]
        }
      ],
      "source": [
        "# Check class (turnover) distribution\n",
        "# TODO: Complete this section\n",
        "left_counts = df['turnover'].value_counts()\n",
        "print(\"Class Counts:\\n\", left_counts)"
      ]
    },
    {
      "cell_type": "code",
      "execution_count": null,
      "id": "c83edfbb",
      "metadata": {
        "id": "c83edfbb",
        "outputId": "943c742c-020c-4b2b-c70b-3e1036d6b239"
      },
      "outputs": [
        {
          "data": {
            "image/png": "[encoded data removed]",
            "text/plain": [
              "<Figure size 432x288 with 1 Axes>"
            ]
          },
          "metadata": {
            "needs_background": "light"
          },
          "output_type": "display_data"
        }
      ],
      "source": [
        "# Plot barplot of class distribution\n",
        "# TODO: Complete this section\n",
        "sns.countplot(x='turnover', data=df)\n",
        "plt.title('Turnover Class Distribution')\n",
        "plt.xlabel('Turnover (0 = Stayed, 1 = Left)')\n",
        "plt.ylabel('Count')\n",
        "plt.show()"
      ]
    },
    {
      "cell_type": "markdown",
      "id": "dbd29880",
      "metadata": {
        "id": "dbd29880"
      },
      "source": [
        "<a id='datacleaning'></a>\n",
        "##### 1. Perform data quality check by checking for missing values if any\n",
        "***"
      ]
    },
    {
      "cell_type": "code",
      "execution_count": null,
      "id": "35588edd",
      "metadata": {
        "id": "35588edd",
        "outputId": "8e0122db-61dd-45b5-a5dd-a3f6591c1b66"
      },
      "outputs": [
        {
          "name": "stdout",
          "output_type": "stream",
          "text": [
            "Missing Values in Each Column:\n",
            " satisfaction           0\n",
            "evaluation             0\n",
            "projectCount           0\n",
            "averageMonthlyHours    0\n",
            "yearsAtCompany         0\n",
            "workAccident           0\n",
            "turnover               0\n",
            "promotion              0\n",
            "department             0\n",
            "salary                 0\n",
            "dtype: int64\n"
          ]
        }
      ],
      "source": [
        "# Can you check to see if there are any missing values in our data set?\n",
        "# TODO: Complete this section\n",
        "missing_values = df.isnull().sum()\n",
        "print(\"Missing Values in Each Column:\\n\", missing_values)"
      ]
    },
    {
      "cell_type": "code",
      "execution_count": null,
      "id": "9f200cc5",
      "metadata": {
        "id": "9f200cc5",
        "outputId": "3b1c04ed-a7c2-43e6-e5e4-051938210d6f"
      },
      "outputs": [
        {
          "name": "stdout",
          "output_type": "stream",
          "text": [
            "satisfaction unique values: [0.38 0.8  0.11 0.72 0.37 0.41 0.1  0.92 0.89 0.42 0.45 0.84 0.36 0.78\n",
            " 0.76 0.09 0.46 0.4  0.82 0.87 0.57 0.43 0.13 0.44 0.39 0.85 0.81 0.9\n",
            " 0.74 0.79 0.17 0.24 0.91 0.71 0.86 0.14 0.75 0.7  0.31 0.73 0.83 0.32\n",
            " 0.54 0.27 0.77 0.88 0.48 0.19 0.6  0.12 0.61 0.33 0.56 0.47 0.28 0.55\n",
            " 0.53 0.59 0.66 0.25 0.34 0.58 0.51 0.35 0.64 0.5  0.23 0.15 0.49 0.3\n",
            " 0.63 0.21 0.62 0.29 0.2  0.16 0.65 0.68 0.67 0.22 0.26 0.99 0.98 1.\n",
            " 0.52 0.93 0.97 0.69 0.94 0.96 0.18 0.95]\n",
            "evaluation unique values: [0.53 0.86 0.88 0.87 0.52 0.5  0.77 0.85 1.   0.54 0.81 0.92 0.55 0.56\n",
            " 0.47 0.99 0.51 0.89 0.83 0.95 0.57 0.49 0.46 0.62 0.94 0.48 0.8  0.74\n",
            " 0.7  0.78 0.91 0.93 0.98 0.97 0.79 0.59 0.84 0.45 0.96 0.68 0.82 0.9\n",
            " 0.71 0.6  0.65 0.58 0.72 0.67 0.75 0.73 0.63 0.61 0.76 0.66 0.69 0.37\n",
            " 0.64 0.39 0.41 0.43 0.44 0.36 0.38 0.4  0.42]\n",
            "projectCount unique values: [2 5 7 6 4 3]\n",
            "averageMonthlyHours unique values: [157 262 272 223 159 153 247 259 224 142 135 305 234 148 137 143 160 255\n",
            " 282 147 304 139 158 242 239 128 132 294 134 145 140 246 126 306 152 269\n",
            " 127 281 276 182 273 307 309 225 226 308 244 286 161 264 277 275 149 295\n",
            " 151 249 291 232 130 129 155 265 279 284 221 154 150 267 257 177 144 289\n",
            " 258 263 251 133 216 300 138 260 183 250 292 283 245 256 278 240 136 301\n",
            " 243 296 274 164 146 261 285 141 297 156 287 219 254 228 131 252 236 270\n",
            " 298 192 248 266 238 229 233 268 231 253 302 271 290 235 293 241 218 199\n",
            " 180 195 237 227 172 206 181 217 310 214 198 211 222 213 202 184 204 288\n",
            " 220 299 303 212 196 179 205 230 203 280 169 188 178 175 166 163 168 165\n",
            " 189 162 215 193 176 191 174 201 208 171 111 104 106 100 194 209 185 200\n",
            " 207 187 210 186 167 108 122 110 115 197 102 109 190  99 101  97 173 121\n",
            " 170 105 118 119 117 114  96  98 107 123 116 125 113 120 112 124 103]\n",
            "yearsAtCompany unique values: [ 3  6  4  5  2  8 10  7]\n",
            "workAccident unique values: [0 1]\n",
            "turnover unique values: [1 0]\n",
            "promotion unique values: [0 1]\n",
            "department unique values: ['sales' 'accounting' 'hr' 'technical' 'support' 'management' 'IT'\n",
            " 'product_mng' 'marketing' 'RandD']\n",
            "salary unique values: ['low' 'medium' 'high']\n",
            "Number of duplicate rows: 3008\n",
            "       satisfaction    evaluation  projectCount  averageMonthlyHours  \\\n",
            "count  14999.000000  14999.000000  14999.000000         14999.000000   \n",
            "mean       0.612834      0.716102      3.803054           201.050337   \n",
            "std        0.248631      0.171169      1.232592            49.943099   \n",
            "min        0.090000      0.360000      2.000000            96.000000   \n",
            "25%        0.440000      0.560000      3.000000           156.000000   \n",
            "50%        0.640000      0.720000      4.000000           200.000000   \n",
            "75%        0.820000      0.870000      5.000000           245.000000   \n",
            "max        1.000000      1.000000      7.000000           310.000000   \n",
            "\n",
            "       yearsAtCompany  workAccident      turnover     promotion  \n",
            "count    14999.000000  14999.000000  14999.000000  14999.000000  \n",
            "mean         3.498233      0.144610      0.238083      0.021268  \n",
            "std          1.460136      0.351719      0.425924      0.144281  \n",
            "min          2.000000      0.000000      0.000000      0.000000  \n",
            "25%          3.000000      0.000000      0.000000      0.000000  \n",
            "50%          3.000000      0.000000      0.000000      0.000000  \n",
            "75%          4.000000      0.000000      0.000000      0.000000  \n",
            "max         10.000000      1.000000      1.000000      1.000000  \n",
            "<class 'pandas.core.frame.DataFrame'>\n",
            "RangeIndex: 14999 entries, 0 to 14998\n",
            "Data columns (total 10 columns):\n",
            " #   Column               Non-Null Count  Dtype  \n",
            "---  ------               --------------  -----  \n",
            " 0   satisfaction         14999 non-null  float64\n",
            " 1   evaluation           14999 non-null  float64\n",
            " 2   projectCount         14999 non-null  int64  \n",
            " 3   averageMonthlyHours  14999 non-null  int64  \n",
            " 4   yearsAtCompany       14999 non-null  int64  \n",
            " 5   workAccident         14999 non-null  int64  \n",
            " 6   turnover             14999 non-null  int64  \n",
            " 7   promotion            14999 non-null  int64  \n",
            " 8   department           14999 non-null  object \n",
            " 9   salary               14999 non-null  object \n",
            "dtypes: float64(2), int64(6), object(2)\n",
            "memory usage: 1.1+ MB\n",
            "None\n"
          ]
        }
      ],
      "source": [
        "# Check the datatype of our features. Are there any data inconsistencies?\n",
        "# TODO: Complete this section\n",
        "\n",
        "for col in df:\n",
        "    print(f\"{col} unique values: {df[col].unique()}\")\n",
        "duplicates = df[df.duplicated()]\n",
        "print(f\"Number of duplicate rows: {duplicates.shape[0]}\")\n",
        "print(df.describe())\n",
        "print(df.info())"
      ]
    },
    {
      "cell_type": "markdown",
      "id": "2e0ccd1b",
      "metadata": {
        "id": "2e0ccd1b"
      },
      "source": [
        "<a id='descriptive_statistics'></a>\n",
        "##### 2. Understand what factors contributed most to employee turnover by EDA\n",
        "***"
      ]
    },
    {
      "cell_type": "code",
      "execution_count": null,
      "id": "b43da0a5",
      "metadata": {
        "id": "b43da0a5",
        "outputId": "17980650-bcc5-43a6-e830-15e890d0cd64"
      },
      "outputs": [
        {
          "name": "stdout",
          "output_type": "stream",
          "text": [
            "       satisfaction    evaluation  projectCount  averageMonthlyHours  \\\n",
            "count  14999.000000  14999.000000  14999.000000         14999.000000   \n",
            "mean       0.612834      0.716102      3.803054           201.050337   \n",
            "std        0.248631      0.171169      1.232592            49.943099   \n",
            "min        0.090000      0.360000      2.000000            96.000000   \n",
            "25%        0.440000      0.560000      3.000000           156.000000   \n",
            "50%        0.640000      0.720000      4.000000           200.000000   \n",
            "75%        0.820000      0.870000      5.000000           245.000000   \n",
            "max        1.000000      1.000000      7.000000           310.000000   \n",
            "\n",
            "       yearsAtCompany  workAccident      turnover     promotion  \n",
            "count    14999.000000  14999.000000  14999.000000  14999.000000  \n",
            "mean         3.498233      0.144610      0.238083      0.021268  \n",
            "std          1.460136      0.351719      0.425924      0.144281  \n",
            "min          2.000000      0.000000      0.000000      0.000000  \n",
            "25%          3.000000      0.000000      0.000000      0.000000  \n",
            "50%          3.000000      0.000000      0.000000      0.000000  \n",
            "75%          4.000000      0.000000      0.000000      0.000000  \n",
            "max         10.000000      1.000000      1.000000      1.000000  \n"
          ]
        }
      ],
      "source": [
        "# Display the statistical overview of the employees\n",
        "# TODO: Complete this section\n",
        "\n",
        "stats = df.describe()\n",
        "print(stats)"
      ]
    },
    {
      "cell_type": "code",
      "execution_count": null,
      "id": "58f621ae",
      "metadata": {
        "id": "58f621ae",
        "outputId": "a80ea29b-eeae-4d1d-e0ce-95816483423b"
      },
      "outputs": [
        {
          "name": "stdout",
          "output_type": "stream",
          "text": [
            "<pandas.core.groupby.generic.DataFrameGroupBy object at 0x7f8d5dd1afb0>\n"
          ]
        }
      ],
      "source": [
        "# Display the mean summary of Employees (Turnover V.S. Non-turnover). What do you notice between the groups?\n",
        "\n",
        "# Group data by turnover, return turnover dataframe.\n",
        "def compute_turnover_Summary():\n",
        "    # TODO: Implement this function\n",
        "    turnover_summary = df.groupby('turnover')\n",
        "    return turnover_summary\n",
        "\n",
        "# TODO: Call function compute_turnover_Summary()\n",
        "# Store turnover dataframe in variable called turnover_Summary\n",
        "turnover_Summary = compute_turnover_Summary()\n",
        "print(turnover_Summary)"
      ]
    },
    {
      "cell_type": "code",
      "execution_count": null,
      "id": "f56e2562",
      "metadata": {
        "id": "f56e2562",
        "outputId": "0607af7c-db6a-4b42-8370-d899b2f9b6c1"
      },
      "outputs": [
        {
          "data": {
            "text/html": [
              "<div>\n",
              "<style scoped>\n",
              "    .dataframe tbody tr th:only-of-type {\n",
              "        vertical-align: middle;\n",
              "    }\n",
              "\n",
              "    .dataframe tbody tr th {\n",
              "        vertical-align: top;\n",
              "    }\n",
              "\n",
              "    .dataframe thead th {\n",
              "        text-align: right;\n",
              "    }\n",
              "</style>\n",
              "<table border=\"1\" class=\"dataframe\">\n",
              "  <thead>\n",
              "    <tr style=\"text-align: right;\">\n",
              "      <th></th>\n",
              "      <th>satisfaction</th>\n",
              "      <th>evaluation</th>\n",
              "      <th>projectCount</th>\n",
              "      <th>averageMonthlyHours</th>\n",
              "      <th>yearsAtCompany</th>\n",
              "      <th>workAccident</th>\n",
              "      <th>promotion</th>\n",
              "    </tr>\n",
              "    <tr>\n",
              "      <th>turnover</th>\n",
              "      <th></th>\n",
              "      <th></th>\n",
              "      <th></th>\n",
              "      <th></th>\n",
              "      <th></th>\n",
              "      <th></th>\n",
              "      <th></th>\n",
              "    </tr>\n",
              "  </thead>\n",
              "  <tbody>\n",
              "    <tr>\n",
              "      <th>0</th>\n",
              "      <td>0.67</td>\n",
              "      <td>0.72</td>\n",
              "      <td>3.79</td>\n",
              "      <td>199.06</td>\n",
              "      <td>3.38</td>\n",
              "      <td>0.18</td>\n",
              "      <td>0.03</td>\n",
              "    </tr>\n",
              "    <tr>\n",
              "      <th>1</th>\n",
              "      <td>0.44</td>\n",
              "      <td>0.72</td>\n",
              "      <td>3.86</td>\n",
              "      <td>207.42</td>\n",
              "      <td>3.88</td>\n",
              "      <td>0.05</td>\n",
              "      <td>0.01</td>\n",
              "    </tr>\n",
              "  </tbody>\n",
              "</table>\n",
              "</div>"
            ],
            "text/plain": [
              "          satisfaction  evaluation  projectCount  averageMonthlyHours  \\\n",
              "turnover                                                                \n",
              "0                 0.67        0.72          3.79               199.06   \n",
              "1                 0.44        0.72          3.86               207.42   \n",
              "\n",
              "          yearsAtCompany  workAccident  promotion  \n",
              "turnover                                           \n",
              "0                   3.38          0.18       0.03  \n",
              "1                   3.88          0.05       0.01  "
            ]
          },
          "execution_count": 63,
          "metadata": {},
          "output_type": "execute_result"
        }
      ],
      "source": [
        "# Calculate mean of Turnover V.S. Non-turnover employees.\n",
        "round(turnover_Summary.mean(), 2)"
      ]
    },
    {
      "cell_type": "code",
      "execution_count": null,
      "id": "72d3766c",
      "metadata": {
        "id": "72d3766c",
        "outputId": "fa038a7e-e65e-4339-aa51-f111e2227ce2"
      },
      "outputs": [
        {
          "data": {
            "text/html": [
              "<div>\n",
              "<style scoped>\n",
              "    .dataframe tbody tr th:only-of-type {\n",
              "        vertical-align: middle;\n",
              "    }\n",
              "\n",
              "    .dataframe tbody tr th {\n",
              "        vertical-align: top;\n",
              "    }\n",
              "\n",
              "    .dataframe thead th {\n",
              "        text-align: right;\n",
              "    }\n",
              "</style>\n",
              "<table border=\"1\" class=\"dataframe\">\n",
              "  <thead>\n",
              "    <tr style=\"text-align: right;\">\n",
              "      <th></th>\n",
              "      <th>satisfaction</th>\n",
              "      <th>evaluation</th>\n",
              "      <th>projectCount</th>\n",
              "      <th>averageMonthlyHours</th>\n",
              "      <th>yearsAtCompany</th>\n",
              "      <th>workAccident</th>\n",
              "      <th>promotion</th>\n",
              "    </tr>\n",
              "    <tr>\n",
              "      <th>turnover</th>\n",
              "      <th></th>\n",
              "      <th></th>\n",
              "      <th></th>\n",
              "      <th></th>\n",
              "      <th></th>\n",
              "      <th></th>\n",
              "      <th></th>\n",
              "    </tr>\n",
              "  </thead>\n",
              "  <tbody>\n",
              "    <tr>\n",
              "      <th>0</th>\n",
              "      <td>0.22</td>\n",
              "      <td>0.16</td>\n",
              "      <td>0.98</td>\n",
              "      <td>45.68</td>\n",
              "      <td>1.56</td>\n",
              "      <td>0.38</td>\n",
              "      <td>0.16</td>\n",
              "    </tr>\n",
              "    <tr>\n",
              "      <th>1</th>\n",
              "      <td>0.26</td>\n",
              "      <td>0.20</td>\n",
              "      <td>1.82</td>\n",
              "      <td>61.20</td>\n",
              "      <td>0.98</td>\n",
              "      <td>0.21</td>\n",
              "      <td>0.07</td>\n",
              "    </tr>\n",
              "  </tbody>\n",
              "</table>\n",
              "</div>"
            ],
            "text/plain": [
              "          satisfaction  evaluation  projectCount  averageMonthlyHours  \\\n",
              "turnover                                                                \n",
              "0                 0.22        0.16          0.98                45.68   \n",
              "1                 0.26        0.20          1.82                61.20   \n",
              "\n",
              "          yearsAtCompany  workAccident  promotion  \n",
              "turnover                                           \n",
              "0                   1.56          0.38       0.16  \n",
              "1                   0.98          0.21       0.07  "
            ]
          },
          "execution_count": 64,
          "metadata": {},
          "output_type": "execute_result"
        }
      ],
      "source": [
        "# Calculate std of Turnover V.S. Non-turnover employees\n",
        "round(turnover_Summary.std(), 2)"
      ]
    },
    {
      "cell_type": "markdown",
      "id": "2af07029",
      "metadata": {
        "id": "2af07029"
      },
      "source": [
        "<a id='correlation_matrix'></a>\n",
        "### Correlation Matrix"
      ]
    },
    {
      "cell_type": "code",
      "execution_count": null,
      "id": "83504034",
      "metadata": {
        "id": "83504034"
      },
      "outputs": [],
      "source": [
        "# Create a correlation matrix. What features correlate the most with turnover? What other correlations did you find?\n",
        "# TODO: Complete this section\n",
        "\n",
        "correlation_matrix = df.corr()"
      ]
    },
    {
      "cell_type": "code",
      "execution_count": null,
      "id": "a459f930",
      "metadata": {
        "id": "a459f930",
        "outputId": "f267c154-92cc-4d4c-b9da-4c7e7e5a4bc2"
      },
      "outputs": [
        {
          "data": {
            "image/png": "[encoded data removed]",
            "text/plain": [
              "<Figure size 720x576 with 2 Axes>"
            ]
          },
          "metadata": {
            "needs_background": "light"
          },
          "output_type": "display_data"
        }
      ],
      "source": [
        "# Draw a heatmap of the correlation matrix between all numerical features/columns in the data.\n",
        "# Add title, xticklabels and yticklabels\n",
        "# TODO: Complete this section\n",
        "plt.figure(figsize=(10, 8))\n",
        "sns.heatmap(correlation_matrix, annot=True, cmap='coolwarm')\n",
        "plt.title('Correlation Matrix')\n",
        "plt.show()\n"
      ]
    },
    {
      "cell_type": "markdown",
      "id": "be3970ef",
      "metadata": {
        "id": "be3970ef"
      },
      "source": [
        "<a id='eda1'></a>\n",
        "###### Distribution of Satisfaction, Evaluation, and Monthly Hours"
      ]
    },
    {
      "cell_type": "markdown",
      "id": "4f52a2ac",
      "metadata": {
        "id": "4f52a2ac"
      },
      "source": [
        "**Task:** Draw the distribution plot of:\n",
        "- Employee satisfaction\n",
        "- Employee evaluation\n",
        "- Employee average monthly hours"
      ]
    },
    {
      "cell_type": "code",
      "execution_count": null,
      "id": "3440f43f",
      "metadata": {
        "id": "3440f43f",
        "outputId": "5134a856-c19d-4bcd-a846-9bc4cd3979b1"
      },
      "outputs": [
        {
          "data": {
            "image/png": "[encoded data removed]",
            "text/plain": [
              "<Figure size 864x576 with 3 Axes>"
            ]
          },
          "metadata": {
            "needs_background": "light"
          },
          "output_type": "display_data"
        }
      ],
      "source": [
        "# TODO: Complete this section\n",
        "# Plot the distribution of Employee Satisfaction, Evaluation, and average monthly hours. What story can you tell?\n",
        "\n",
        "# TODO: Complete this section\n",
        "# Set up the matplotlib figure\n",
        "plt.figure(figsize=(12, 8))\n",
        "\n",
        "\n",
        "# TODO: Complete this section\n",
        "# Graph Employee Satisfaction\n",
        "sns.distplot(kde=False)\n",
        "\n",
        "plt.subplot(3, 1, 1)\n",
        "sns.histplot(df['satisfaction'], kde=True)\n",
        "plt.title('Employee Satisfaction Distribution')\n",
        "plt.xlabel('Satisfaction Level')\n",
        "plt.ylabel('Frequency')\n",
        "\n",
        "\n",
        "# TODO: Complete this section\n",
        "# Graph Employee Evaluation\n",
        "sns.distplot()\n",
        "\n",
        "plt.subplot(3, 1, 2)\n",
        "sns.histplot(df['evaluation'], kde=True)\n",
        "plt.title('Employee Evaluation Distribution')\n",
        "plt.xlabel('Evaluation Score')\n",
        "plt.ylabel('Frequency')\n",
        "\n",
        "\n",
        "# TODO: Complete this section\n",
        "# Graph Employee Average Monthly Hours\n",
        "sns.distplot()\n",
        "\n",
        "plt.subplot(3, 1, 3)\n",
        "sns.histplot(df['averageMonthlyHours'], kde=True)\n",
        "plt.title('Employee Average Monthly Hours Distribution')\n",
        "plt.xlabel('Average Monthly Hours')\n",
        "plt.ylabel('Frequency')\n",
        "\n",
        "plt.tight_layout()"
      ]
    },
    {
      "cell_type": "markdown",
      "id": "96889ed3",
      "metadata": {
        "id": "96889ed3"
      },
      "source": [
        "<a id='project_count'></a>\n",
        "##### Bar plot of employee project count"
      ]
    },
    {
      "cell_type": "markdown",
      "id": "49c44bd1",
      "metadata": {
        "id": "49c44bd1"
      },
      "source": [
        "**Task:**\n",
        "- Draw the bar plot of the employee project count of both employees who left and who stayed in the organization (use column number_project and hue column turnover)\n",
        "- Give your inferences from the plot"
      ]
    },
    {
      "cell_type": "code",
      "execution_count": null,
      "id": "63c02404",
      "metadata": {
        "id": "63c02404",
        "outputId": "19d5de4e-00f9-442c-b9bb-5cda884e1022"
      },
      "outputs": [
        {
          "data": {
            "image/png": "[encoded data removed]",
            "text/plain": [
              "<Figure size 720x432 with 1 Axes>"
            ]
          },
          "metadata": {
            "needs_background": "light"
          },
          "output_type": "display_data"
        }
      ],
      "source": [
        "# TODO: Complete this section\n",
        "# Set up the matplotlib figure\n",
        "\n",
        "plt.figure(figsize=(10, 6))\n",
        "\n",
        "# TODO: Complete this section\n",
        "# Create bar plot of project count of both, employees who left and who stayed\n",
        "\n",
        "sns.countplot(data=df, x='projectCount', hue='turnover', palette='Set2')\n",
        "\n",
        "# TODO: Complete this section\n",
        "# Set xlabel and ylabel\n",
        "\n",
        "plt.xlabel('Number of Projects')\n",
        "plt.ylabel('Count of Employees')\n",
        "plt.title('Employee Project Count: Left vs Stayed')\n",
        "\n",
        "plt.show()"
      ]
    },
    {
      "cell_type": "markdown",
      "id": "126b4b98",
      "metadata": {
        "id": "126b4b98"
      },
      "source": [
        "- More than half of the employees with **2, 6 and 7** projects left the company\n",
        "- Majority of the employees who did not leave the company had **3,4, and 5** projects\n",
        "- All of the employees with **7** projects left the company\n",
        "- There is an increase in employee turnover rate as project count increases"
      ]
    },
    {
      "cell_type": "markdown",
      "id": "7d3fc3f7",
      "metadata": {
        "id": "7d3fc3f7"
      },
      "source": [
        "<a id='clustering'></a>\n",
        "##### 3. Perform clustering of Employees who left based on their satisfaction and evaluation\n",
        "***"
      ]
    },
    {
      "cell_type": "markdown",
      "id": "4cdd9b1e",
      "metadata": {
        "id": "4cdd9b1e"
      },
      "source": [
        "**Task:**\n",
        "- Perform a clustering of employees who left based on their satisfaction and evaluation.\n",
        "- Choose columns satisfaction_level, last_evaluation, and turnover.\n",
        "- K-means clustering of employees who left the company into 3 clusters.\n",
        "- Based on the satisfaction and evaluation factors, give your thoughts on the employee clusters."
      ]
    },
    {
      "cell_type": "code",
      "execution_count": null,
      "id": "73548733",
      "metadata": {
        "id": "73548733",
        "outputId": "9a31259a-309e-4929-9f59-97e3931f7463"
      },
      "outputs": [
        {
          "data": {
            "image/png": "[encoded data removed]",
            "text/plain": [
              "<Figure size 720x432 with 1 Axes>"
            ]
          },
          "metadata": {
            "needs_background": "light"
          },
          "output_type": "display_data"
        }
      ],
      "source": [
        "# Import KMeans Model\n",
        "from sklearn.cluster import KMeans\n",
        "\n",
        "# Graph and create 3 clusters of Employee Turnover\n",
        "kmeans = KMeans(n_clusters=3,random_state=2)\n",
        "kmeans.fit(df[df.turnover==1][[\"satisfaction\",\"evaluation\"]])\n",
        "\n",
        "kmeans_colors = ['green' if c == 0 else 'blue' if c == 2 else 'red' for c in kmeans.labels_]\n",
        "\n",
        "fig = plt.figure(figsize=(10, 6))\n",
        "plt.scatter(x=\"satisfaction\",y=\"evaluation\", data=df[df.turnover==1],\n",
        "            alpha=0.25,color = kmeans_colors)\n",
        "plt.xlabel(\"Satisfaction\")\n",
        "plt.ylabel(\"Evaluation\")\n",
        "plt.scatter(x=kmeans.cluster_centers_[:,0],y=kmeans.cluster_centers_[:,1],color=\"black\",marker=\"X\",s=100)\n",
        "plt.title(\"Clusters of Employee Turnover\")\n",
        "\n",
        "plt.show();"
      ]
    },
    {
      "cell_type": "markdown",
      "id": "5d7930c2",
      "metadata": {
        "id": "5d7930c2"
      },
      "source": [
        "**Cluster 1 (Blue):** Hard-working and Sad Employees\n",
        "\n",
        "**Cluster 2 (Red):** Bad and Sad Employee\n",
        "\n",
        "**Cluster 3 (Green):** Hard-working and Happy Employee"
      ]
    },
    {
      "cell_type": "markdown",
      "id": "6aaca714",
      "metadata": {
        "id": "6aaca714"
      },
      "source": [
        "`There are 3 distinct clusters for employees who left the company`\n",
        "\n",
        "**Cluster 1 (Hard-working and Sad Employee):** Satisfaction was below 0.2 and evaluations were greater than 0.75. Which could be a good indication that employees who left the company were good workers but felt horrible at their job.\n",
        " - **Question:** What could be the reason for feeling so horrible when you are highly evaluated? Could it be working too hard? Could this cluster mean employees who are \"overworked\"?\n",
        "\n",
        "**Cluster 2 (Bad and Sad Employee):** Satisfaction between about 0.35~0.45 and evaluations below ~0.58. This could be seen as employees who were badly evaluated and felt bad at work.\n",
        " - **Question:** Could this cluster mean employees who \"under-performed\"?\n",
        "\n",
        "**Cluster 3 (Hard-working and Happy Employee):** Satisfaction between 0.7~1.0 and evaluations were greater than 0.8. Which could mean that employees in this cluster were \"ideal\". They loved their work and were evaluated highly for their performance.\n",
        " - **Question:** Could this cluser mean that employees left because they found another job opportunity?"
      ]
    },
    {
      "cell_type": "markdown",
      "id": "Hfu1TxMHMGtf",
      "metadata": {
        "id": "Hfu1TxMHMGtf"
      },
      "source": [
        "__Observations__\n",
        "- Cluster 1:\n",
        "Yes that could be a possibility due to bad working conditions, feeling underappreciated, or taken advantage of.\n",
        "\n",
        "\n",
        "- Cluster 2:\n",
        "It could be a lack of motivation or not getting validation they need to feel appreciated.\n",
        "\n",
        "\n",
        "- Cluster 3:\n",
        "They could be happier and feel capable with their responsibilities of work or appreciated the most."
      ]
    },
    {
      "cell_type": "markdown",
      "id": "a05fbaa2",
      "metadata": {
        "id": "a05fbaa2"
      },
      "source": [
        "<a id='pre_processing'></a>\n",
        "#### Pre-processing\n",
        "***"
      ]
    },
    {
      "cell_type": "markdown",
      "id": "323794e8",
      "metadata": {
        "id": "323794e8"
      },
      "source": [
        "##### 4.Handle the ***left*** Class Imbalance using SMOTE technique."
      ]
    },
    {
      "cell_type": "markdown",
      "id": "ade114b4",
      "metadata": {
        "id": "ade114b4"
      },
      "source": [
        "##### 4a. Pre-Process the data by converting categorical columns to numerical\n",
        "- Separate categorical variables and numeric variables.\n",
        "- Apply **get_dummies()** to the categorical variables.\n",
        "- Combine categorical variables and numeric variables."
      ]
    },
    {
      "cell_type": "code",
      "execution_count": null,
      "id": "608731b0",
      "metadata": {
        "id": "608731b0"
      },
      "outputs": [],
      "source": [
        "# TODO: Implement this function\n",
        "from imblearn.over_sampling import SMOTE\n",
        "\n",
        "def compute_new_df():\n",
        "    # TODO: Implement this function\n",
        "\n",
        "    # Separate categorical variables and numeric variables into separate dataframes.\n",
        "        categorical_columns = df.select_dtypes(include=['object']).columns\n",
        "        numeric_columns = df.select_dtypes(exclude=['object']).columns\n",
        "\n",
        "    # Apply get_dummies() to the categorical variables.\n",
        "        categorical_df = pd.get_dummies(df[categorical_columns], drop_first=False)\n",
        "\n",
        "    # Combine categorical variables and numeric variables into one dataframe and return single combined dataframe.\n",
        "        numeric_df = df[numeric_columns]\n",
        "        new_df = pd.concat([numeric_df, categorical_df], axis=1)\n",
        "\n",
        "        return new_df\n",
        "    # Name combined dataframe new_df\n",
        "new_df = compute_new_df()"
      ]
    },
    {
      "cell_type": "code",
      "execution_count": null,
      "id": "cb4255ca",
      "metadata": {
        "id": "cb4255ca",
        "outputId": "e52af06e-27e9-49bb-db50-3b07e3d2f0f2"
      },
      "outputs": [
        {
          "data": {
            "text/plain": [
              "(14999, 21)"
            ]
          },
          "execution_count": 71,
          "metadata": {},
          "output_type": "execute_result"
        }
      ],
      "source": [
        "new_df.shape"
      ]
    },
    {
      "cell_type": "code",
      "execution_count": null,
      "id": "781ab315",
      "metadata": {
        "id": "781ab315",
        "outputId": "96eb9379-6fb7-41be-90af-58e9a296bb22"
      },
      "outputs": [
        {
          "data": {
            "text/html": [
              "<div>\n",
              "<style scoped>\n",
              "    .dataframe tbody tr th:only-of-type {\n",
              "        vertical-align: middle;\n",
              "    }\n",
              "\n",
              "    .dataframe tbody tr th {\n",
              "        vertical-align: top;\n",
              "    }\n",
              "\n",
              "    .dataframe thead th {\n",
              "        text-align: right;\n",
              "    }\n",
              "</style>\n",
              "<table border=\"1\" class=\"dataframe\">\n",
              "  <thead>\n",
              "    <tr style=\"text-align: right;\">\n",
              "      <th></th>\n",
              "      <th>satisfaction</th>\n",
              "      <th>evaluation</th>\n",
              "      <th>projectCount</th>\n",
              "      <th>averageMonthlyHours</th>\n",
              "      <th>yearsAtCompany</th>\n",
              "      <th>workAccident</th>\n",
              "      <th>turnover</th>\n",
              "      <th>promotion</th>\n",
              "      <th>department_IT</th>\n",
              "      <th>department_RandD</th>\n",
              "      <th>...</th>\n",
              "      <th>department_hr</th>\n",
              "      <th>department_management</th>\n",
              "      <th>department_marketing</th>\n",
              "      <th>department_product_mng</th>\n",
              "      <th>department_sales</th>\n",
              "      <th>department_support</th>\n",
              "      <th>department_technical</th>\n",
              "      <th>salary_high</th>\n",
              "      <th>salary_low</th>\n",
              "      <th>salary_medium</th>\n",
              "    </tr>\n",
              "  </thead>\n",
              "  <tbody>\n",
              "    <tr>\n",
              "      <th>0</th>\n",
              "      <td>0.38</td>\n",
              "      <td>0.53</td>\n",
              "      <td>2</td>\n",
              "      <td>157</td>\n",
              "      <td>3</td>\n",
              "      <td>0</td>\n",
              "      <td>1</td>\n",
              "      <td>0</td>\n",
              "      <td>0</td>\n",
              "      <td>0</td>\n",
              "      <td>...</td>\n",
              "      <td>0</td>\n",
              "      <td>0</td>\n",
              "      <td>0</td>\n",
              "      <td>0</td>\n",
              "      <td>1</td>\n",
              "      <td>0</td>\n",
              "      <td>0</td>\n",
              "      <td>0</td>\n",
              "      <td>1</td>\n",
              "      <td>0</td>\n",
              "    </tr>\n",
              "    <tr>\n",
              "      <th>1</th>\n",
              "      <td>0.80</td>\n",
              "      <td>0.86</td>\n",
              "      <td>5</td>\n",
              "      <td>262</td>\n",
              "      <td>6</td>\n",
              "      <td>0</td>\n",
              "      <td>1</td>\n",
              "      <td>0</td>\n",
              "      <td>0</td>\n",
              "      <td>0</td>\n",
              "      <td>...</td>\n",
              "      <td>0</td>\n",
              "      <td>0</td>\n",
              "      <td>0</td>\n",
              "      <td>0</td>\n",
              "      <td>1</td>\n",
              "      <td>0</td>\n",
              "      <td>0</td>\n",
              "      <td>0</td>\n",
              "      <td>0</td>\n",
              "      <td>1</td>\n",
              "    </tr>\n",
              "    <tr>\n",
              "      <th>2</th>\n",
              "      <td>0.11</td>\n",
              "      <td>0.88</td>\n",
              "      <td>7</td>\n",
              "      <td>272</td>\n",
              "      <td>4</td>\n",
              "      <td>0</td>\n",
              "      <td>1</td>\n",
              "      <td>0</td>\n",
              "      <td>0</td>\n",
              "      <td>0</td>\n",
              "      <td>...</td>\n",
              "      <td>0</td>\n",
              "      <td>0</td>\n",
              "      <td>0</td>\n",
              "      <td>0</td>\n",
              "      <td>1</td>\n",
              "      <td>0</td>\n",
              "      <td>0</td>\n",
              "      <td>0</td>\n",
              "      <td>0</td>\n",
              "      <td>1</td>\n",
              "    </tr>\n",
              "    <tr>\n",
              "      <th>3</th>\n",
              "      <td>0.72</td>\n",
              "      <td>0.87</td>\n",
              "      <td>5</td>\n",
              "      <td>223</td>\n",
              "      <td>5</td>\n",
              "      <td>0</td>\n",
              "      <td>1</td>\n",
              "      <td>0</td>\n",
              "      <td>0</td>\n",
              "      <td>0</td>\n",
              "      <td>...</td>\n",
              "      <td>0</td>\n",
              "      <td>0</td>\n",
              "      <td>0</td>\n",
              "      <td>0</td>\n",
              "      <td>1</td>\n",
              "      <td>0</td>\n",
              "      <td>0</td>\n",
              "      <td>0</td>\n",
              "      <td>1</td>\n",
              "      <td>0</td>\n",
              "    </tr>\n",
              "    <tr>\n",
              "      <th>4</th>\n",
              "      <td>0.37</td>\n",
              "      <td>0.52</td>\n",
              "      <td>2</td>\n",
              "      <td>159</td>\n",
              "      <td>3</td>\n",
              "      <td>0</td>\n",
              "      <td>1</td>\n",
              "      <td>0</td>\n",
              "      <td>0</td>\n",
              "      <td>0</td>\n",
              "      <td>...</td>\n",
              "      <td>0</td>\n",
              "      <td>0</td>\n",
              "      <td>0</td>\n",
              "      <td>0</td>\n",
              "      <td>1</td>\n",
              "      <td>0</td>\n",
              "      <td>0</td>\n",
              "      <td>0</td>\n",
              "      <td>1</td>\n",
              "      <td>0</td>\n",
              "    </tr>\n",
              "  </tbody>\n",
              "</table>\n",
              "<p>5 rows × 21 columns</p>\n",
              "</div>"
            ],
            "text/plain": [
              "   satisfaction  evaluation  projectCount  averageMonthlyHours  \\\n",
              "0          0.38        0.53             2                  157   \n",
              "1          0.80        0.86             5                  262   \n",
              "2          0.11        0.88             7                  272   \n",
              "3          0.72        0.87             5                  223   \n",
              "4          0.37        0.52             2                  159   \n",
              "\n",
              "   yearsAtCompany  workAccident  turnover  promotion  department_IT  \\\n",
              "0               3             0         1          0              0   \n",
              "1               6             0         1          0              0   \n",
              "2               4             0         1          0              0   \n",
              "3               5             0         1          0              0   \n",
              "4               3             0         1          0              0   \n",
              "\n",
              "   department_RandD  ...  department_hr  department_management  \\\n",
              "0                 0  ...              0                      0   \n",
              "1                 0  ...              0                      0   \n",
              "2                 0  ...              0                      0   \n",
              "3                 0  ...              0                      0   \n",
              "4                 0  ...              0                      0   \n",
              "\n",
              "   department_marketing  department_product_mng  department_sales  \\\n",
              "0                     0                       0                 1   \n",
              "1                     0                       0                 1   \n",
              "2                     0                       0                 1   \n",
              "3                     0                       0                 1   \n",
              "4                     0                       0                 1   \n",
              "\n",
              "   department_support  department_technical  salary_high  salary_low  \\\n",
              "0                   0                     0            0           1   \n",
              "1                   0                     0            0           0   \n",
              "2                   0                     0            0           0   \n",
              "3                   0                     0            0           1   \n",
              "4                   0                     0            0           1   \n",
              "\n",
              "   salary_medium  \n",
              "0              0  \n",
              "1              1  \n",
              "2              1  \n",
              "3              0  \n",
              "4              0  \n",
              "\n",
              "[5 rows x 21 columns]"
            ]
          },
          "execution_count": 72,
          "metadata": {},
          "output_type": "execute_result"
        }
      ],
      "source": [
        "# TODO: Complete this section\n",
        "# Print first few rows of new_df\n",
        "new_df.head(5)"
      ]
    },
    {
      "cell_type": "markdown",
      "id": "c99d3e68",
      "metadata": {
        "id": "c99d3e68"
      },
      "source": [
        "\n",
        "##### 4b. Split Train/Test Set"
      ]
    },
    {
      "cell_type": "markdown",
      "id": "9cbd0256",
      "metadata": {
        "id": "9cbd0256"
      },
      "source": [
        "##### Let's split our data into a train and test set. We'll fit our model with the train set and leave our test set for our last evaluation."
      ]
    },
    {
      "cell_type": "markdown",
      "id": "e275f42e",
      "metadata": {
        "id": "e275f42e"
      },
      "source": [
        "- Do the stratified split of the dataset to train and test in the ratio 80:20 with random_state=123."
      ]
    },
    {
      "cell_type": "code",
      "execution_count": null,
      "id": "a8081dfe",
      "metadata": {
        "id": "a8081dfe"
      },
      "outputs": [],
      "source": [
        "from sklearn.model_selection import train_test_split\n",
        "from sklearn.metrics import accuracy_score, classification_report, precision_score, recall_score, confusion_matrix, precision_recall_curve"
      ]
    },
    {
      "cell_type": "code",
      "execution_count": null,
      "id": "ff6860b7",
      "metadata": {
        "id": "ff6860b7"
      },
      "outputs": [],
      "source": [
        "# TODO: Complete this section\n",
        "# Create the X and y set\n",
        "y = new_df['turnover']\n",
        "X = new_df.drop(columns=['turnover'])\n",
        "\n",
        "X_train, X_test, y_train, y_test = train_test_split(X, y, test_size=0.2, stratify=y, random_state=123)\n"
      ]
    },
    {
      "cell_type": "code",
      "execution_count": null,
      "id": "3875bac2",
      "metadata": {
        "id": "3875bac2",
        "outputId": "33eff4e6-4872-4348-a938-609775b5f3c1"
      },
      "outputs": [
        {
          "name": "stdout",
          "output_type": "stream",
          "text": [
            "(11999, 20)\n",
            "(3000, 20)\n"
          ]
        }
      ],
      "source": [
        "print(X_train.shape)\n",
        "print(X_test.shape)"
      ]
    },
    {
      "cell_type": "markdown",
      "id": "46135e9c",
      "metadata": {
        "id": "46135e9c"
      },
      "source": [
        "##### 4c. Class Imbalance"
      ]
    },
    {
      "cell_type": "markdown",
      "id": "0cffe269",
      "metadata": {
        "id": "0cffe269"
      },
      "source": [
        "##### Employee Turnover Rate: 24%"
      ]
    },
    {
      "cell_type": "code",
      "execution_count": null,
      "id": "d729db8e",
      "metadata": {
        "id": "d729db8e",
        "outputId": "aae7bae2-058e-4103-db80-bf05f59881a2"
      },
      "outputs": [
        {
          "data": {
            "text/plain": [
              "0    0.76\n",
              "1    0.24\n",
              "Name: turnover, dtype: float64"
            ]
          },
          "execution_count": 76,
          "metadata": {},
          "output_type": "execute_result"
        }
      ],
      "source": [
        "round(df.turnover.value_counts(1), 2)"
      ]
    },
    {
      "cell_type": "markdown",
      "id": "b27b83a6",
      "metadata": {
        "id": "b27b83a6"
      },
      "source": [
        "##### 4c. Upsample the train dataset using SMOTE technique"
      ]
    },
    {
      "cell_type": "code",
      "execution_count": null,
      "id": "b382adc5",
      "metadata": {
        "id": "b382adc5"
      },
      "outputs": [],
      "source": [
        "from sklearn.utils import resample\n",
        "from imblearn.over_sampling import SMOTE\n",
        "\n",
        "# Upsample using SMOTE\n",
        "sm = SMOTE(random_state=12, sampling_strategy=1.0)\n",
        "x_train_sm, y_train_sm = sm.fit_resample(X_train, y_train)"
      ]
    },
    {
      "cell_type": "code",
      "execution_count": null,
      "id": "20fc61e5",
      "metadata": {
        "id": "20fc61e5",
        "outputId": "b5888f93-64e3-4073-f7a2-6eb45449f8a8"
      },
      "outputs": [
        {
          "name": "stdout",
          "output_type": "stream",
          "text": [
            "Original shape: (11999, 20) (11999,)\n",
            "SMOTE sample shape: (18284, 20) (18284,)\n"
          ]
        }
      ],
      "source": [
        "print(\"Original shape:\", X_train.shape, y_train.shape)\n",
        "print (\"SMOTE sample shape:\", x_train_sm.shape, y_train_sm.shape)"
      ]
    },
    {
      "cell_type": "code",
      "execution_count": null,
      "id": "2851b667",
      "metadata": {
        "id": "2851b667"
      },
      "outputs": [],
      "source": [
        "from sklearn.linear_model import LogisticRegression\n",
        "from sklearn.pipeline import make_pipeline\n",
        "from sklearn.preprocessing import StandardScaler\n",
        "from sklearn.model_selection import cross_val_score"
      ]
    },
    {
      "cell_type": "markdown",
      "id": "d394beea",
      "metadata": {
        "id": "d394beea"
      },
      "source": [
        "##### Perform 5-Fold cross validation model training and evaluate performance\n",
        "***"
      ]
    },
    {
      "cell_type": "markdown",
      "id": "71941e61",
      "metadata": {
        "id": "71941e61"
      },
      "source": [
        "- Train a logistic regression model, apply a 5-fold CV, and plot the classification report.\n",
        "- Train a random forest classifier model, apply the 5-fold CV, and plot the classification report.\n",
        "- Train a gradient boosting classifier model, apply the 5-fold CV, and plot the classification report."
      ]
    },
    {
      "cell_type": "markdown",
      "id": "442281e4",
      "metadata": {
        "id": "442281e4"
      },
      "source": [
        "#### We're training 3 models:\n",
        "\n",
        "1. Logistic Regression Classifier\n",
        "2. Random Forest Classifier\n",
        "3. Gradient Boosting Classifier"
      ]
    },
    {
      "cell_type": "markdown",
      "id": "e4bd9128",
      "metadata": {
        "id": "e4bd9128"
      },
      "source": [
        "<a id='lr'></a>\n",
        "## Logistic Regression Classifier"
      ]
    },
    {
      "cell_type": "code",
      "execution_count": null,
      "id": "adea9719",
      "metadata": {
        "id": "adea9719",
        "outputId": "73d01d80-31c3-4bce-db9a-2c4735087a8a"
      },
      "outputs": [
        {
          "data": {
            "text/html": [
              "<style>#sk-container-id-5 {color: black;}#sk-container-id-5 pre{padding: 0;}#sk-container-id-5 div.sk-toggleable {background-color: white;}#sk-container-id-5 label.sk-toggleable__label {cursor: pointer;display: block;width: 100%;margin-bottom: 0;padding: 0.3em;box-sizing: border-box;text-align: center;}#sk-container-id-5 label.sk-toggleable__label-arrow:before {content: \"▸\";float: left;margin-right: 0.25em;color: #696969;}#sk-container-id-5 label.sk-toggleable__label-arrow:hover:before {color: black;}#sk-container-id-5 div.sk-estimator:hover label.sk-toggleable__label-arrow:before {color: black;}#sk-container-id-5 div.sk-toggleable__content {max-height: 0;max-width: 0;overflow: hidden;text-align: left;background-color: #f0f8ff;}#sk-container-id-5 div.sk-toggleable__content pre {margin: 0.2em;color: black;border-radius: 0.25em;background-color: #f0f8ff;}#sk-container-id-5 input.sk-toggleable__control:checked~div.sk-toggleable__content {max-height: 200px;max-width: 100%;overflow: auto;}#sk-container-id-5 input.sk-toggleable__control:checked~label.sk-toggleable__label-arrow:before {content: \"▾\";}#sk-container-id-5 div.sk-estimator input.sk-toggleable__control:checked~label.sk-toggleable__label {background-color: #d4ebff;}#sk-container-id-5 div.sk-label input.sk-toggleable__control:checked~label.sk-toggleable__label {background-color: #d4ebff;}#sk-container-id-5 input.sk-hidden--visually {border: 0;clip: rect(1px 1px 1px 1px);clip: rect(1px, 1px, 1px, 1px);height: 1px;margin: -1px;overflow: hidden;padding: 0;position: absolute;width: 1px;}#sk-container-id-5 div.sk-estimator {font-family: monospace;background-color: #f0f8ff;border: 1px dotted black;border-radius: 0.25em;box-sizing: border-box;margin-bottom: 0.5em;}#sk-container-id-5 div.sk-estimator:hover {background-color: #d4ebff;}#sk-container-id-5 div.sk-parallel-item::after {content: \"\";width: 100%;border-bottom: 1px solid gray;flex-grow: 1;}#sk-container-id-5 div.sk-label:hover label.sk-toggleable__label {background-color: #d4ebff;}#sk-container-id-5 div.sk-serial::before {content: \"\";position: absolute;border-left: 1px solid gray;box-sizing: border-box;top: 0;bottom: 0;left: 50%;z-index: 0;}#sk-container-id-5 div.sk-serial {display: flex;flex-direction: column;align-items: center;background-color: white;padding-right: 0.2em;padding-left: 0.2em;position: relative;}#sk-container-id-5 div.sk-item {position: relative;z-index: 1;}#sk-container-id-5 div.sk-parallel {display: flex;align-items: stretch;justify-content: center;background-color: white;position: relative;}#sk-container-id-5 div.sk-item::before, #sk-container-id-5 div.sk-parallel-item::before {content: \"\";position: absolute;border-left: 1px solid gray;box-sizing: border-box;top: 0;bottom: 0;left: 50%;z-index: -1;}#sk-container-id-5 div.sk-parallel-item {display: flex;flex-direction: column;z-index: 1;position: relative;background-color: white;}#sk-container-id-5 div.sk-parallel-item:first-child::after {align-self: flex-end;width: 50%;}#sk-container-id-5 div.sk-parallel-item:last-child::after {align-self: flex-start;width: 50%;}#sk-container-id-5 div.sk-parallel-item:only-child::after {width: 0;}#sk-container-id-5 div.sk-dashed-wrapped {border: 1px dashed gray;margin: 0 0.4em 0.5em 0.4em;box-sizing: border-box;padding-bottom: 0.4em;background-color: white;}#sk-container-id-5 div.sk-label label {font-family: monospace;font-weight: bold;display: inline-block;line-height: 1.2em;}#sk-container-id-5 div.sk-label-container {text-align: center;}#sk-container-id-5 div.sk-container {/* jupyter's `normalize.less` sets `[hidden] { display: none; }` but bootstrap.min.css set `[hidden] { display: none !important; }` so we also need the `!important` here to be able to override the default hidden behavior on the sphinx rendered scikit-learn.org. See: https://github.com/scikit-learn/scikit-learn/issues/21755 */display: inline-block !important;position: relative;}#sk-container-id-5 div.sk-text-repr-fallback {display: none;}</style><div id=\"sk-container-id-5\" class=\"sk-top-container\"><div class=\"sk-text-repr-fallback\"><pre>LogisticRegression()</pre><b>In a Jupyter environment, please rerun this cell to show the HTML representation or trust the notebook. <br />On GitHub, the HTML representation is unable to render, please try loading this page with nbviewer.org.</b></div><div class=\"sk-container\" hidden><div class=\"sk-item\"><div class=\"sk-estimator sk-toggleable\"><input class=\"sk-toggleable__control sk-hidden--visually\" id=\"sk-estimator-id-5\" type=\"checkbox\" checked><label for=\"sk-estimator-id-5\" class=\"sk-toggleable__label sk-toggleable__label-arrow\">LogisticRegression</label><div class=\"sk-toggleable__content\"><pre>LogisticRegression()</pre></div></div></div></div></div>"
            ],
            "text/plain": [
              "LogisticRegression()"
            ]
          },
          "execution_count": 80,
          "metadata": {},
          "output_type": "execute_result"
        }
      ],
      "source": [
        "from sklearn.metrics import roc_auc_score\n",
        "from sklearn.metrics import accuracy_score\n",
        "\n",
        "lr = LogisticRegression()\n",
        "lr = lr.fit(x_train_sm, y_train_sm)\n",
        "lr"
      ]
    },
    {
      "cell_type": "markdown",
      "id": "a59a3c6e",
      "metadata": {
        "id": "a59a3c6e"
      },
      "source": [
        "### Apply 5-Fold Cross Validation on Logistic Regression"
      ]
    },
    {
      "cell_type": "code",
      "execution_count": null,
      "id": "b686e008",
      "metadata": {
        "id": "b686e008"
      },
      "outputs": [],
      "source": [
        "# TODO: Complete this section\n",
        "# Apply 5-Fold Cross Validation on Logistic Regression\n",
        "\n",
        "logreg = LogisticRegression(random_state=123, max_iter=1000, solver='lbfgs')\n",
        "\n",
        "cv_scores = cross_val_score(logreg, x_train_sm, y_train_sm, cv=5, scoring='accuracy')"
      ]
    },
    {
      "cell_type": "markdown",
      "id": "ecc9b2d9",
      "metadata": {
        "id": "ecc9b2d9"
      },
      "source": [
        "### Logistic Regression Classifier AUC  (0.77)"
      ]
    },
    {
      "cell_type": "code",
      "execution_count": null,
      "id": "173d2d71",
      "metadata": {
        "id": "173d2d71",
        "outputId": "059af736-f538-4510-ee94-9a268ed2821e"
      },
      "outputs": [
        {
          "name": "stdout",
          "output_type": "stream",
          "text": [
            "\n",
            "\n",
            " ---Logistic Regression Model---\n",
            "Logistic Regression AUC = 0.78\n",
            "              precision    recall  f1-score   support\n",
            "\n",
            "           0       0.92      0.78      0.85      2286\n",
            "           1       0.53      0.79      0.63       714\n",
            "\n",
            "    accuracy                           0.78      3000\n",
            "   macro avg       0.73      0.78      0.74      3000\n",
            "weighted avg       0.83      0.78      0.80      3000\n",
            "\n"
          ]
        }
      ],
      "source": [
        "print (\"\\n\\n ---Logistic Regression Model---\")\n",
        "lr_auc = roc_auc_score(y_test, lr.predict(X_test))\n",
        "\n",
        "print (\"Logistic Regression AUC = %2.2f\" % lr_auc)\n",
        "\n",
        "print(classification_report(y_test, lr.predict(X_test)))"
      ]
    },
    {
      "cell_type": "markdown",
      "id": "169dc612",
      "metadata": {
        "id": "169dc612"
      },
      "source": [
        "<a id='rf'></a>\n",
        "# Random Forest Classifier"
      ]
    },
    {
      "cell_type": "code",
      "execution_count": null,
      "id": "d39b3f28",
      "metadata": {
        "id": "d39b3f28",
        "outputId": "fe79cd94-59ab-4481-dde2-b290df58d0ff"
      },
      "outputs": [
        {
          "data": {
            "text/html": [
              "<style>#sk-container-id-6 {color: black;}#sk-container-id-6 pre{padding: 0;}#sk-container-id-6 div.sk-toggleable {background-color: white;}#sk-container-id-6 label.sk-toggleable__label {cursor: pointer;display: block;width: 100%;margin-bottom: 0;padding: 0.3em;box-sizing: border-box;text-align: center;}#sk-container-id-6 label.sk-toggleable__label-arrow:before {content: \"▸\";float: left;margin-right: 0.25em;color: #696969;}#sk-container-id-6 label.sk-toggleable__label-arrow:hover:before {color: black;}#sk-container-id-6 div.sk-estimator:hover label.sk-toggleable__label-arrow:before {color: black;}#sk-container-id-6 div.sk-toggleable__content {max-height: 0;max-width: 0;overflow: hidden;text-align: left;background-color: #f0f8ff;}#sk-container-id-6 div.sk-toggleable__content pre {margin: 0.2em;color: black;border-radius: 0.25em;background-color: #f0f8ff;}#sk-container-id-6 input.sk-toggleable__control:checked~div.sk-toggleable__content {max-height: 200px;max-width: 100%;overflow: auto;}#sk-container-id-6 input.sk-toggleable__control:checked~label.sk-toggleable__label-arrow:before {content: \"▾\";}#sk-container-id-6 div.sk-estimator input.sk-toggleable__control:checked~label.sk-toggleable__label {background-color: #d4ebff;}#sk-container-id-6 div.sk-label input.sk-toggleable__control:checked~label.sk-toggleable__label {background-color: #d4ebff;}#sk-container-id-6 input.sk-hidden--visually {border: 0;clip: rect(1px 1px 1px 1px);clip: rect(1px, 1px, 1px, 1px);height: 1px;margin: -1px;overflow: hidden;padding: 0;position: absolute;width: 1px;}#sk-container-id-6 div.sk-estimator {font-family: monospace;background-color: #f0f8ff;border: 1px dotted black;border-radius: 0.25em;box-sizing: border-box;margin-bottom: 0.5em;}#sk-container-id-6 div.sk-estimator:hover {background-color: #d4ebff;}#sk-container-id-6 div.sk-parallel-item::after {content: \"\";width: 100%;border-bottom: 1px solid gray;flex-grow: 1;}#sk-container-id-6 div.sk-label:hover label.sk-toggleable__label {background-color: #d4ebff;}#sk-container-id-6 div.sk-serial::before {content: \"\";position: absolute;border-left: 1px solid gray;box-sizing: border-box;top: 0;bottom: 0;left: 50%;z-index: 0;}#sk-container-id-6 div.sk-serial {display: flex;flex-direction: column;align-items: center;background-color: white;padding-right: 0.2em;padding-left: 0.2em;position: relative;}#sk-container-id-6 div.sk-item {position: relative;z-index: 1;}#sk-container-id-6 div.sk-parallel {display: flex;align-items: stretch;justify-content: center;background-color: white;position: relative;}#sk-container-id-6 div.sk-item::before, #sk-container-id-6 div.sk-parallel-item::before {content: \"\";position: absolute;border-left: 1px solid gray;box-sizing: border-box;top: 0;bottom: 0;left: 50%;z-index: -1;}#sk-container-id-6 div.sk-parallel-item {display: flex;flex-direction: column;z-index: 1;position: relative;background-color: white;}#sk-container-id-6 div.sk-parallel-item:first-child::after {align-self: flex-end;width: 50%;}#sk-container-id-6 div.sk-parallel-item:last-child::after {align-self: flex-start;width: 50%;}#sk-container-id-6 div.sk-parallel-item:only-child::after {width: 0;}#sk-container-id-6 div.sk-dashed-wrapped {border: 1px dashed gray;margin: 0 0.4em 0.5em 0.4em;box-sizing: border-box;padding-bottom: 0.4em;background-color: white;}#sk-container-id-6 div.sk-label label {font-family: monospace;font-weight: bold;display: inline-block;line-height: 1.2em;}#sk-container-id-6 div.sk-label-container {text-align: center;}#sk-container-id-6 div.sk-container {/* jupyter's `normalize.less` sets `[hidden] { display: none; }` but bootstrap.min.css set `[hidden] { display: none !important; }` so we also need the `!important` here to be able to override the default hidden behavior on the sphinx rendered scikit-learn.org. See: https://github.com/scikit-learn/scikit-learn/issues/21755 */display: inline-block !important;position: relative;}#sk-container-id-6 div.sk-text-repr-fallback {display: none;}</style><div id=\"sk-container-id-6\" class=\"sk-top-container\"><div class=\"sk-text-repr-fallback\"><pre>RandomForestClassifier()</pre><b>In a Jupyter environment, please rerun this cell to show the HTML representation or trust the notebook. <br />On GitHub, the HTML representation is unable to render, please try loading this page with nbviewer.org.</b></div><div class=\"sk-container\" hidden><div class=\"sk-item\"><div class=\"sk-estimator sk-toggleable\"><input class=\"sk-toggleable__control sk-hidden--visually\" id=\"sk-estimator-id-6\" type=\"checkbox\" checked><label for=\"sk-estimator-id-6\" class=\"sk-toggleable__label sk-toggleable__label-arrow\">RandomForestClassifier</label><div class=\"sk-toggleable__content\"><pre>RandomForestClassifier()</pre></div></div></div></div></div>"
            ],
            "text/plain": [
              "RandomForestClassifier()"
            ]
          },
          "execution_count": 83,
          "metadata": {},
          "output_type": "execute_result"
        }
      ],
      "source": [
        "from sklearn.ensemble import RandomForestClassifier\n",
        "\n",
        "# Random Forest Model\n",
        "rf = RandomForestClassifier()\n",
        "rf = rf.fit(x_train_sm, y_train_sm)\n",
        "rf"
      ]
    },
    {
      "cell_type": "markdown",
      "id": "5d2fdafc",
      "metadata": {
        "id": "5d2fdafc"
      },
      "source": [
        "### Apply 5-Fold Cross Validation on Random Forest"
      ]
    },
    {
      "cell_type": "code",
      "execution_count": null,
      "id": "af53a6f8",
      "metadata": {
        "id": "af53a6f8"
      },
      "outputs": [],
      "source": [
        "# TODO: Complete this section\n",
        "# Apply 5-Fold Cross Validation on Random Forest\n",
        "\n",
        "rf = RandomForestClassifier(random_state=123, n_estimators=100)\n",
        "rf.fit(x_train_sm, y_train_sm)\n",
        "cv_scores = cross_val_score(rf, x_train_sm, y_train_sm, cv=5, scoring='accuracy')"
      ]
    },
    {
      "cell_type": "markdown",
      "id": "b38737ea",
      "metadata": {
        "id": "b38737ea"
      },
      "source": [
        "### Random Forest Classifier AUC (0.98)"
      ]
    },
    {
      "cell_type": "code",
      "execution_count": null,
      "id": "ce00459e",
      "metadata": {
        "id": "ce00459e",
        "outputId": "1ed228fd-4830-4970-f75b-5673dc66328b"
      },
      "outputs": [
        {
          "name": "stdout",
          "output_type": "stream",
          "text": [
            "\n",
            "\n",
            " ---Random Forest Model---\n",
            "Random Forest AUC = 0.98\n",
            "              precision    recall  f1-score   support\n",
            "\n",
            "           0       0.99      0.99      0.99      2286\n",
            "           1       0.97      0.98      0.97       714\n",
            "\n",
            "    accuracy                           0.99      3000\n",
            "   macro avg       0.98      0.98      0.98      3000\n",
            "weighted avg       0.99      0.99      0.99      3000\n",
            "\n"
          ]
        }
      ],
      "source": [
        "from sklearn.metrics import roc_auc_score\n",
        "\n",
        "print (\"\\n\\n ---Random Forest Model---\")\n",
        "rf_roc_auc = roc_auc_score(y_test, rf.predict(X_test))\n",
        "print (\"Random Forest AUC = %2.2f\" % rf_roc_auc)\n",
        "print(classification_report(y_test, rf.predict(X_test)))"
      ]
    },
    {
      "cell_type": "markdown",
      "id": "b43efa9e",
      "metadata": {
        "id": "b43efa9e"
      },
      "source": [
        "<a id='svc'></a>\n",
        "# Gradient Boosting Classifier\n"
      ]
    },
    {
      "cell_type": "code",
      "execution_count": null,
      "id": "334eb3d1",
      "metadata": {
        "id": "334eb3d1",
        "outputId": "1825473c-892d-4814-99fd-c8df211b7afa"
      },
      "outputs": [
        {
          "data": {
            "text/html": [
              "<style>#sk-container-id-7 {color: black;}#sk-container-id-7 pre{padding: 0;}#sk-container-id-7 div.sk-toggleable {background-color: white;}#sk-container-id-7 label.sk-toggleable__label {cursor: pointer;display: block;width: 100%;margin-bottom: 0;padding: 0.3em;box-sizing: border-box;text-align: center;}#sk-container-id-7 label.sk-toggleable__label-arrow:before {content: \"▸\";float: left;margin-right: 0.25em;color: #696969;}#sk-container-id-7 label.sk-toggleable__label-arrow:hover:before {color: black;}#sk-container-id-7 div.sk-estimator:hover label.sk-toggleable__label-arrow:before {color: black;}#sk-container-id-7 div.sk-toggleable__content {max-height: 0;max-width: 0;overflow: hidden;text-align: left;background-color: #f0f8ff;}#sk-container-id-7 div.sk-toggleable__content pre {margin: 0.2em;color: black;border-radius: 0.25em;background-color: #f0f8ff;}#sk-container-id-7 input.sk-toggleable__control:checked~div.sk-toggleable__content {max-height: 200px;max-width: 100%;overflow: auto;}#sk-container-id-7 input.sk-toggleable__control:checked~label.sk-toggleable__label-arrow:before {content: \"▾\";}#sk-container-id-7 div.sk-estimator input.sk-toggleable__control:checked~label.sk-toggleable__label {background-color: #d4ebff;}#sk-container-id-7 div.sk-label input.sk-toggleable__control:checked~label.sk-toggleable__label {background-color: #d4ebff;}#sk-container-id-7 input.sk-hidden--visually {border: 0;clip: rect(1px 1px 1px 1px);clip: rect(1px, 1px, 1px, 1px);height: 1px;margin: -1px;overflow: hidden;padding: 0;position: absolute;width: 1px;}#sk-container-id-7 div.sk-estimator {font-family: monospace;background-color: #f0f8ff;border: 1px dotted black;border-radius: 0.25em;box-sizing: border-box;margin-bottom: 0.5em;}#sk-container-id-7 div.sk-estimator:hover {background-color: #d4ebff;}#sk-container-id-7 div.sk-parallel-item::after {content: \"\";width: 100%;border-bottom: 1px solid gray;flex-grow: 1;}#sk-container-id-7 div.sk-label:hover label.sk-toggleable__label {background-color: #d4ebff;}#sk-container-id-7 div.sk-serial::before {content: \"\";position: absolute;border-left: 1px solid gray;box-sizing: border-box;top: 0;bottom: 0;left: 50%;z-index: 0;}#sk-container-id-7 div.sk-serial {display: flex;flex-direction: column;align-items: center;background-color: white;padding-right: 0.2em;padding-left: 0.2em;position: relative;}#sk-container-id-7 div.sk-item {position: relative;z-index: 1;}#sk-container-id-7 div.sk-parallel {display: flex;align-items: stretch;justify-content: center;background-color: white;position: relative;}#sk-container-id-7 div.sk-item::before, #sk-container-id-7 div.sk-parallel-item::before {content: \"\";position: absolute;border-left: 1px solid gray;box-sizing: border-box;top: 0;bottom: 0;left: 50%;z-index: -1;}#sk-container-id-7 div.sk-parallel-item {display: flex;flex-direction: column;z-index: 1;position: relative;background-color: white;}#sk-container-id-7 div.sk-parallel-item:first-child::after {align-self: flex-end;width: 50%;}#sk-container-id-7 div.sk-parallel-item:last-child::after {align-self: flex-start;width: 50%;}#sk-container-id-7 div.sk-parallel-item:only-child::after {width: 0;}#sk-container-id-7 div.sk-dashed-wrapped {border: 1px dashed gray;margin: 0 0.4em 0.5em 0.4em;box-sizing: border-box;padding-bottom: 0.4em;background-color: white;}#sk-container-id-7 div.sk-label label {font-family: monospace;font-weight: bold;display: inline-block;line-height: 1.2em;}#sk-container-id-7 div.sk-label-container {text-align: center;}#sk-container-id-7 div.sk-container {/* jupyter's `normalize.less` sets `[hidden] { display: none; }` but bootstrap.min.css set `[hidden] { display: none !important; }` so we also need the `!important` here to be able to override the default hidden behavior on the sphinx rendered scikit-learn.org. See: https://github.com/scikit-learn/scikit-learn/issues/21755 */display: inline-block !important;position: relative;}#sk-container-id-7 div.sk-text-repr-fallback {display: none;}</style><div id=\"sk-container-id-7\" class=\"sk-top-container\"><div class=\"sk-text-repr-fallback\"><pre>GradientBoostingClassifier()</pre><b>In a Jupyter environment, please rerun this cell to show the HTML representation or trust the notebook. <br />On GitHub, the HTML representation is unable to render, please try loading this page with nbviewer.org.</b></div><div class=\"sk-container\" hidden><div class=\"sk-item\"><div class=\"sk-estimator sk-toggleable\"><input class=\"sk-toggleable__control sk-hidden--visually\" id=\"sk-estimator-id-7\" type=\"checkbox\" checked><label for=\"sk-estimator-id-7\" class=\"sk-toggleable__label sk-toggleable__label-arrow\">GradientBoostingClassifier</label><div class=\"sk-toggleable__content\"><pre>GradientBoostingClassifier()</pre></div></div></div></div></div>"
            ],
            "text/plain": [
              "GradientBoostingClassifier()"
            ]
          },
          "execution_count": 91,
          "metadata": {},
          "output_type": "execute_result"
        }
      ],
      "source": [
        "from sklearn.ensemble import GradientBoostingClassifier\n",
        "\n",
        "gbc = GradientBoostingClassifier()\n",
        "gbc = gbc.fit(x_train_sm,y_train_sm)\n",
        "gbc"
      ]
    },
    {
      "cell_type": "markdown",
      "id": "afb3155e",
      "metadata": {
        "id": "afb3155e"
      },
      "source": [
        "### Apply 5-Fold Cross Validation on Gradient Boosting Classifier"
      ]
    },
    {
      "cell_type": "code",
      "execution_count": null,
      "id": "45b73761",
      "metadata": {
        "id": "45b73761"
      },
      "outputs": [],
      "source": [
        "# TODO: Complete this section\n",
        "# Apply 5-Fold Cross Validation on Gradient Boosting Classifier\n",
        "\n",
        "gbc = GradientBoostingClassifier(random_state=123)\n",
        "gbc = gbc.fit(x_train_sm,y_train_sm)\n",
        "\n",
        "cv_scores = cross_val_score(gbc, x_train_sm, y_train_sm, cv=5, scoring='accuracy')\n"
      ]
    },
    {
      "cell_type": "markdown",
      "id": "7e28975a",
      "metadata": {
        "id": "7e28975a"
      },
      "source": [
        "### Gradient Boosting Classifier AUC  (0.96)"
      ]
    },
    {
      "cell_type": "code",
      "execution_count": null,
      "id": "3d55a08d",
      "metadata": {
        "id": "3d55a08d",
        "outputId": "49135cf6-5735-4596-8839-6d6e9b5a2421"
      },
      "outputs": [
        {
          "name": "stdout",
          "output_type": "stream",
          "text": [
            "\n",
            "\n",
            " ---Gradient Boosting Model---\n",
            "Gradient Boosting Classifier AUC = 0.95\n",
            "              precision    recall  f1-score   support\n",
            "\n",
            "           0       0.98      0.97      0.98      2286\n",
            "           1       0.92      0.94      0.93       714\n",
            "\n",
            "    accuracy                           0.96      3000\n",
            "   macro avg       0.95      0.95      0.95      3000\n",
            "weighted avg       0.96      0.96      0.96      3000\n",
            "\n"
          ]
        }
      ],
      "source": [
        "from sklearn.metrics import roc_auc_score\n",
        "\n",
        "print (\"\\n\\n ---Gradient Boosting Model---\")\n",
        "gbc_auc = roc_auc_score(y_test, gbc.predict(X_test))\n",
        "print (\"Gradient Boosting Classifier AUC = %2.2f\" % gbc_auc)\n",
        "print(classification_report(y_test, gbc.predict(X_test)))"
      ]
    },
    {
      "cell_type": "markdown",
      "id": "cde99bd0",
      "metadata": {
        "id": "cde99bd0"
      },
      "source": [
        "# Model Evaluation (F1 Score & ROC/AUC)"
      ]
    },
    {
      "cell_type": "markdown",
      "id": "4f69dcea",
      "metadata": {
        "id": "4f69dcea"
      },
      "source": [
        "<a id='roc'></a>\n",
        "# ROC Graph"
      ]
    },
    {
      "cell_type": "code",
      "execution_count": null,
      "id": "aceddd34",
      "metadata": {
        "id": "aceddd34",
        "outputId": "8d886b33-6bcb-4146-8e8c-63f6c7ed77a1"
      },
      "outputs": [
        {
          "data": {
            "image/png": "[encoded data removed]",
            "text/plain": [
              "<Figure size 1080x864 with 1 Axes>"
            ]
          },
          "metadata": {
            "needs_background": "light"
          },
          "output_type": "display_data"
        }
      ],
      "source": [
        "# Create ROC Graph\n",
        "from sklearn.metrics import roc_curve\n",
        "from sklearn.metrics import confusion_matrix\n",
        "\n",
        "fpr, tpr, thresholds = roc_curve(y_test, lr.predict_proba(X_test)[:,1])\n",
        "rf_fpr, rf_tpr, rf_thresholds = roc_curve(y_test, rf.predict_proba(X_test)[:,1])\n",
        "gbc_fpr, gbc_tpr, gbc_thresholds = roc_curve(y_test, gbc.predict_proba(X_test)[:,1])\n",
        "\n",
        "\n",
        "plt.figure(figsize=(15,12))\n",
        "\n",
        "# Plot Logistic Regression ROC\n",
        "plt.plot(fpr, tpr, label='Logistic Regression (area = %0.2f)' % lr_auc)\n",
        "\n",
        "# Plot Random Forest ROC\n",
        "plt.plot(rf_fpr, rf_tpr, label='Random Forest Classifier (area = %0.2f)' % rf_roc_auc)\n",
        "\n",
        "# Plot Decision Tree ROC\n",
        "plt.plot(gbc_fpr, gbc_tpr, label='Gradient Boosting Classifier (area = %0.2f)' % gbc_auc)\n",
        "\n",
        "# Plot Base Rate ROC\n",
        "plt.plot([0,1], [0,1],label='Base Rate')\n",
        "\n",
        "plt.xlim([0.0, 1.0])\n",
        "plt.ylim([0.0, 1.05])\n",
        "plt.xlabel('False Positive Rate')\n",
        "plt.ylabel('True Positive Rate')\n",
        "plt.title('ROC Graph')\n",
        "plt.legend(loc=\"lower right\")\n",
        "plt.show();"
      ]
    },
    {
      "cell_type": "code",
      "execution_count": null,
      "id": "55b48fa9",
      "metadata": {
        "id": "55b48fa9",
        "outputId": "865ae36d-d0ba-4b0d-88c2-a3ff3614c670"
      },
      "outputs": [
        {
          "name": "stdout",
          "output_type": "stream",
          "text": [
            "Confusion Matrix:\n",
            "[[1789  497]\n",
            " [ 152  562]]\n"
          ]
        }
      ],
      "source": [
        "# Confusion Matrix for Logistic Regresion\n",
        "# TODO: Complete this section\n",
        "\n",
        "y_pred_lr = lr.predict(X_test)\n",
        "cm = confusion_matrix(y_test, y_pred_lr)\n",
        "\n",
        "print(\"Confusion Matrix:\")\n",
        "print(cm)"
      ]
    },
    {
      "cell_type": "code",
      "execution_count": null,
      "id": "b92e3c61",
      "metadata": {
        "id": "b92e3c61",
        "outputId": "146c6fe6-00fd-43b1-c796-12c8d33a9441"
      },
      "outputs": [
        {
          "name": "stdout",
          "output_type": "stream",
          "text": [
            "Confusion Matrix for Gradient Boosting Classifier:\n",
            "[[2226   60]\n",
            " [  46  668]]\n"
          ]
        }
      ],
      "source": [
        "# Confusion Matrix for GBC\n",
        "# TODO: Complete this section\n",
        "\n",
        "y_pred_gbc = gbc.predict(X_test)\n",
        "cm_gbc = confusion_matrix(y_test, y_pred_gbc)\n",
        "\n",
        "print(\"Confusion Matrix for Gradient Boosting Classifier:\")\n",
        "print(cm_gbc)"
      ]
    },
    {
      "cell_type": "code",
      "execution_count": null,
      "id": "086b9ba2",
      "metadata": {
        "id": "086b9ba2",
        "outputId": "0b8cac1b-ffe9-424c-c847-5510730e8a05"
      },
      "outputs": [
        {
          "name": "stdout",
          "output_type": "stream",
          "text": [
            "Confusion Matrix for Random Forest Classifier:\n",
            "[[2265   21]\n",
            " [  16  698]]\n"
          ]
        }
      ],
      "source": [
        "# Confusion Matrix for Random Forest\n",
        "# TODO: Complete this section\n",
        "\n",
        "y_pred_rf = rf.predict(X_test)\n",
        "cm_rf = confusion_matrix(y_test, y_pred_rf)\n",
        "\n",
        "print(\"Confusion Matrix for Random Forest Classifier:\")\n",
        "print(cm_rf)"
      ]
    },
    {
      "cell_type": "markdown",
      "id": "8f64c4dd",
      "metadata": {
        "id": "8f64c4dd"
      },
      "source": [
        "# Recall or Precision?\n",
        "- What do precision and recall tell us? Which one should we optimize? Why?\n"
      ]
    },
    {
      "cell_type": "markdown",
      "id": "jivQfZehL9Az",
      "metadata": {
        "id": "jivQfZehL9Az"
      },
      "source": [
        "Observations:\n",
        "Whenever trying to reduce false positives, or making sure that people will actually leave when the model predicts they will, precision is crucial.\n",
        "When minimizing false negatives, getting the most at-risk employees as possible, regardless of whether this means keeping those who aren't truly at risk—recall is important."
      ]
    },
    {
      "cell_type": "markdown",
      "id": "41cdb68f",
      "metadata": {
        "id": "41cdb68f"
      },
      "source": [
        "##### 7. Suggest various retention strategies on targeted employees."
      ]
    },
    {
      "cell_type": "markdown",
      "id": "ceac3a3f",
      "metadata": {
        "id": "ceac3a3f"
      },
      "source": [
        "### 7a. Using the best model, predict the probability of employee turnover in the test data"
      ]
    },
    {
      "cell_type": "markdown",
      "id": "42345eb2",
      "metadata": {
        "id": "42345eb2"
      },
      "source": [
        "### Retention Plan"
      ]
    },
    {
      "cell_type": "code",
      "execution_count": null,
      "id": "ae27718d",
      "metadata": {
        "id": "ae27718d"
      },
      "outputs": [],
      "source": [
        "# Ranking turnover probability for employees\n",
        "# TODO: Predict the probability of employee turnover in the test data.\n",
        "\n",
        "turnover_probabilities = rf.predict_proba(X_test)[:, 1]"
      ]
    },
    {
      "cell_type": "code",
      "execution_count": null,
      "id": "a643a193",
      "metadata": {
        "id": "a643a193",
        "outputId": "f1cbb484-03b3-4ea6-e6ac-3309087f6d17"
      },
      "outputs": [
        {
          "data": {
            "text/plain": [
              "array([0, 1])"
            ]
          },
          "execution_count": 104,
          "metadata": {},
          "output_type": "execute_result"
        }
      ],
      "source": [
        "# Turnover (0 or 1)\n",
        "# Prediction probabilities are in this order\n",
        "\n",
        "rf.classes_"
      ]
    },
    {
      "cell_type": "markdown",
      "id": "07668e3d",
      "metadata": {
        "id": "07668e3d"
      },
      "source": [
        "**Task:**\n",
        "- Based on the probability score range below, categorize the employees into four zones and suggest your thoughts on the retention strategies for each zone.\n",
        "- Safe Zone (Green) (Score <= 20%)\n",
        "- Low Risk Zone (Yellow) (20% < Score <= 60%)\n",
        "- Medium Risk Zone (Orange) (60% < Score < 90%)\n",
        "- High Risk Zone (Red) (Score => 90%)."
      ]
    },
    {
      "cell_type": "code",
      "execution_count": null,
      "id": "7401a4cb",
      "metadata": {
        "id": "7401a4cb",
        "outputId": "859e9819-1b2f-4c7c-d579-e7da7e1fe4af"
      },
      "outputs": [
        {
          "data": {
            "text/plain": [
              "[0.03, 0.0, 0.01, 1.0, 1.0, 0.2, 0.16, 1.0, 0.85, 0.07]"
            ]
          },
          "execution_count": 105,
          "metadata": {},
          "output_type": "execute_result"
        }
      ],
      "source": [
        "# Probability of employee turnover in subset of test data.\n",
        "list(rf.predict_proba(X_test)[175:185, 1])"
      ]
    },
    {
      "cell_type": "code",
      "execution_count": null,
      "id": "8f57cff1",
      "metadata": {
        "id": "8f57cff1",
        "outputId": "451bdf09-3b84-4c81-e848-f5aaa135fc0a"
      },
      "outputs": [
        {
          "name": "stdout",
          "output_type": "stream",
          "text": [
            "Employees in Safe Zone: 2166\n"
          ]
        }
      ],
      "source": [
        "# TODO: Complete this section\n",
        "\n",
        "# Categorize the employees into Safe Zone\n",
        "\n",
        "safe_zone = probabilities <= 0.20\n",
        "print(f\"Employees in Safe Zone: {safe_zone.sum()}\")"
      ]
    },
    {
      "cell_type": "code",
      "execution_count": null,
      "id": "18ed592f",
      "metadata": {
        "id": "18ed592f",
        "outputId": "9d020128-2e17-44f4-c7a9-6f59a1d8a3eb"
      },
      "outputs": [
        {
          "name": "stdout",
          "output_type": "stream",
          "text": [
            "Employees in the Low Risk Zone: 125\n"
          ]
        }
      ],
      "source": [
        "# TODO: Complete this section\n",
        "\n",
        "# Categorize the employees into Low Risk Zone\n",
        "\n",
        "low_risk_zone = (probabilities > 0.20) & (probabilities <= 0.60)\n",
        "print(f\"Employees in the Low Risk Zone: {low_risk_zone.sum()}\")"
      ]
    },
    {
      "cell_type": "code",
      "execution_count": null,
      "id": "93ff1a8d",
      "metadata": {
        "id": "93ff1a8d",
        "outputId": "1c83e403-8441-43bc-f861-e6f2dda4c446"
      },
      "outputs": [
        {
          "name": "stdout",
          "output_type": "stream",
          "text": [
            "Employees in the Medium Risk Zone: 58\n"
          ]
        }
      ],
      "source": [
        "# TODO: Complete this section\n",
        "\n",
        "# Categorize the employees into Medium Risk Zone\n",
        "\n",
        "med_risk_zone = (probabilities > 0.60) & (probabilities < 0.90)\n",
        "print(f\"Employees in the Medium Risk Zone: {med_risk_zone.sum()}\")"
      ]
    },
    {
      "cell_type": "code",
      "execution_count": null,
      "id": "777471ef",
      "metadata": {
        "id": "777471ef",
        "outputId": "7f88fff2-9082-4fe4-92bd-af567d84f58d"
      },
      "outputs": [
        {
          "name": "stdout",
          "output_type": "stream",
          "text": [
            "Employees in the High Risk Zone: 2355\n"
          ]
        }
      ],
      "source": [
        "# TODO: Complete this section\n",
        "\n",
        "# Categorize the employees into High Risk Zone\n",
        "\n",
        "high_risk_zone = probabilities <= 0.90\n",
        "print(f\"Employees in the High Risk Zone: {high_risk_zone.sum()}\")"
      ]
    },
    {
      "cell_type": "markdown",
      "id": "ebae5c0f-a546-457b-9897-1e83f8512064",
      "metadata": {
        "id": "ebae5c0f-a546-457b-9897-1e83f8512064"
      },
      "source": [
        "### Suggest your thoughts on the retention strategies for each zone. What actions are required for the different zones?  "
      ]
    },
    {
      "cell_type": "markdown",
      "id": "574d095d-10bb-4990-88cb-f1ae2d43a8b7",
      "metadata": {
        "id": "574d095d-10bb-4990-88cb-f1ae2d43a8b7"
      },
      "source": [
        "Observations:\n",
        "For the safe zone employees, being consistent in interactions with rewards/recognition.\n",
        "With the low risk zone employees, it is best to do check-ins and offer new challenges or training to keep them engaged and show that you care about their development.\n",
        "As for the medium risk zone employees, you could help with managing their workload and request feedback where management can improve support.\n",
        "Lastly, the high risk zone employees could be checked on and more management support regarding mental health or lifestyle."
      ]
    },
    {
      "cell_type": "markdown",
      "id": "0f536cab",
      "metadata": {
        "id": "0f536cab"
      },
      "source": [
        "## Conclusion"
      ]
    },
    {
      "cell_type": "markdown",
      "id": "42c18d5d",
      "metadata": {
        "id": "42c18d5d"
      },
      "source": [
        "## What to Optimize\n",
        "**Binary Classification**: Turnover V.S. Non Turnover\n",
        "\n",
        "Instance Scoring: Likelihood of employee responding to an offer or incentive to save them from leaving\n",
        "\n",
        "Need for application: save employees from leaving\n",
        "\n",
        "In our employee retention problem, rather than simply predicting whether an employee will leave the company within a certain time frame, we would much rather have an estimate of the probability that he or she will leave the company. We would rank employees by their probability of leaving, then allocate a limited incentive budget to the highest-probability instances.\n",
        "\n",
        "Solution 1:\n",
        "\n",
        "We can rank employees by their probability of leaving, then allocate a limited incentive budget to the highest-probability instances.\n",
        "\n",
        "OR, we can allocate our incentive budget to the instances with the highest expected loss, for which we'll need the probability of turnover.\n",
        "\n",
        "\n",
        "\n",
        "---\n",
        "\n",
        "\n",
        "Solution 2:\n",
        "\n",
        "Develop learning programs for managers, then use analytics to gauge their performance and measure progress.\n",
        "\n",
        "Be a good coach. Empower the team and do not micromanage.\n",
        "\n",
        "Express interest in team members success.\n",
        "\n",
        "Have a clear vision or strategy for the team.\n",
        "\n",
        "Help the team with career development.   "
      ]
    },
    {
      "cell_type": "markdown",
      "id": "4d5ada47",
      "metadata": {
        "id": "4d5ada47"
      },
      "source": [
        "\n",
        "# Selection Bias\n",
        "***\n",
        "\n",
        "One thing to note about the dataset is the turnover feature. We don't know if the employees that left are interns, contractors, full-time, or part-time. These are important variables to take into consideration when applying a machine learning algorithm to them.\n",
        "\n",
        "Evaluation is heavily subjective and can vary tremendously depending on the evaluator. If the employee knows the evaluator, then he or she will probably have a higher score."
      ]
    }
  ],
  "metadata": {
    "colab": {
      "provenance": []
    },
    "kernelspec": {
      "display_name": "Python 3 [3.10]",
      "language": "python",
      "name": "python3"
    },
    "language_info": {
      "codemirror_mode": {
        "name": "ipython",
        "version": 3
      },
      "file_extension": ".py",
      "mimetype": "text/x-python",
      "name": "python",
      "nbconvert_exporter": "python",
      "pygments_lexer": "ipython3",
      "version": "3.10.2"
    }
  },
  "nbformat": 4,
  "nbformat_minor": 5
}